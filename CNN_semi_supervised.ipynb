{
  "cells": [
    {
      "cell_type": "markdown",
      "metadata": {
        "id": "ZZChiuCJatlk"
      },
      "source": [
        "# Import libraries"
      ]
    },
    {
      "cell_type": "code",
      "execution_count": 66,
      "metadata": {
        "id": "vJ7ugJagTuZC"
      },
      "outputs": [],
      "source": [
        "##### base #####\n",
        "import matplotlib.pyplot as plt\n",
        "import numpy as np\n",
        "import random\n",
        "from collections import Counter\n",
        "from tqdm import tqdm\n",
        "from sklearn.metrics import classification_report, confusion_matrix\n",
        "import seaborn as sns\n",
        "##### sklearn #####\n",
        "from sklearn.model_selection import train_test_split\n",
        "##### torch ######\n",
        "import torch\n",
        "import torchvision\n",
        "import torchvision.transforms as transforms\n",
        "import torch.nn as nn\n",
        "from torch.utils.data import DataLoader, Subset, ConcatDataset, Dataset, TensorDataset\n",
        "import torch.nn.functional as F\n",
        "import torch.optim as optim\n",
        "from torchsummary import summary"
      ]
    },
    {
      "cell_type": "markdown",
      "metadata": {
        "id": "ZGxiGpDAkatD"
      },
      "source": [
        "# Setup"
      ]
    },
    {
      "cell_type": "code",
      "execution_count": 4,
      "metadata": {
        "colab": {
          "base_uri": "https://localhost:8080/"
        },
        "id": "y6GJvIYFkyXI",
        "outputId": "91abe24d-b95a-4f03-81b9-7161f97479e9"
      },
      "outputs": [
        {
          "data": {
            "text/plain": [
              "False"
            ]
          },
          "execution_count": 4,
          "metadata": {},
          "output_type": "execute_result"
        }
      ],
      "source": [
        "torch.cuda.is_available()"
      ]
    },
    {
      "cell_type": "code",
      "execution_count": 5,
      "metadata": {
        "colab": {
          "base_uri": "https://localhost:8080/"
        },
        "id": "zJJSsRGSkaFB",
        "outputId": "53076eb0-ab4b-4705-85d6-4e84b4ec3166"
      },
      "outputs": [
        {
          "name": "stdout",
          "output_type": "stream",
          "text": [
            "Using cpu device\n"
          ]
        }
      ],
      "source": [
        "seed = 42\n",
        "torch.manual_seed(seed)\n",
        "torch.cuda.manual_seed(seed)\n",
        "torch.backends.cudnn.deterministic = True\n",
        "torch.backends.cudnn.benchmark = False\n",
        "np.random.seed(seed)\n",
        "\n",
        "device = \"cuda:0\" if torch.cuda.is_available() else \"cpu\"\n",
        "print(f\"Using {device} device\")"
      ]
    },
    {
      "cell_type": "markdown",
      "metadata": {
        "id": "v32IoAkYawF4"
      },
      "source": [
        "# Load and check MNIST dataset"
      ]
    },
    {
      "cell_type": "code",
      "execution_count": 6,
      "metadata": {
        "colab": {
          "base_uri": "https://localhost:8080/"
        },
        "id": "Z1zMyhOJXpYa",
        "outputId": "5ca55387-f34a-49f3-8484-36b74e080ea4"
      },
      "outputs": [
        {
          "name": "stderr",
          "output_type": "stream",
          "text": [
            "100%|██████████| 9.91M/9.91M [00:00<00:00, 42.7MB/s]\n",
            "100%|██████████| 28.9k/28.9k [00:00<00:00, 1.22MB/s]\n",
            "100%|██████████| 1.65M/1.65M [00:00<00:00, 10.8MB/s]\n",
            "100%|██████████| 4.54k/4.54k [00:00<00:00, 5.65MB/s]"
          ]
        },
        {
          "name": "stdout",
          "output_type": "stream",
          "text": [
            "Train dataset: 60000\n",
            "Test dataset: 10000\n"
          ]
        },
        {
          "name": "stderr",
          "output_type": "stream",
          "text": [
            "\n"
          ]
        }
      ],
      "source": [
        "# mean and std for MNIST dataset\n",
        "mean, std = 0.1307, 0.3081\n",
        "\n",
        "# Define data transformations\n",
        "transform = transforms.Compose([\n",
        "    transforms.ToTensor(),\n",
        "    transforms.Normalize((0.1307,), (0.3081,))\n",
        "])\n",
        "\n",
        "## Load MNIST training and testing dataset\n",
        "original_train_ds = torchvision.datasets.MNIST(root = 'data/', train = True, transform = transform, download = True)\n",
        "original_test_ds = torchvision.datasets.MNIST(root = 'data/', train = False, transform = transform, download = True)\n",
        "\n",
        "print('Train dataset:', len(original_train_ds))\n",
        "print('Test dataset:', len(original_test_ds))"
      ]
    },
    {
      "cell_type": "code",
      "execution_count": 7,
      "metadata": {
        "colab": {
          "base_uri": "https://localhost:8080/"
        },
        "id": "FzZ0SgxZfsQH",
        "outputId": "65703224-485b-40d7-ac83-499223fe7cea"
      },
      "outputs": [
        {
          "data": {
            "text/plain": [
              "['0 - zero',\n",
              " '1 - one',\n",
              " '2 - two',\n",
              " '3 - three',\n",
              " '4 - four',\n",
              " '5 - five',\n",
              " '6 - six',\n",
              " '7 - seven',\n",
              " '8 - eight',\n",
              " '9 - nine']"
            ]
          },
          "execution_count": 7,
          "metadata": {},
          "output_type": "execute_result"
        }
      ],
      "source": [
        "classes = original_train_ds.classes\n",
        "classes"
      ]
    },
    {
      "cell_type": "code",
      "execution_count": 8,
      "metadata": {
        "colab": {
          "base_uri": "https://localhost:8080/"
        },
        "id": "aaW9jt6xftp-",
        "outputId": "1d94f425-da1d-46b5-ee1a-84e01b432925"
      },
      "outputs": [
        {
          "name": "stdout",
          "output_type": "stream",
          "text": [
            "Labels count: {5: 5421, 0: 5923, 4: 5842, 1: 6742, 9: 5949, 2: 5958, 3: 6131, 6: 5918, 7: 6265, 8: 5851}\n"
          ]
        }
      ],
      "source": [
        "# data[a][b]: a is an image, b is its info where data[a][0]: data, data[a][1]: label\n",
        "img_label = [original_train_ds[img][1] for img in range(len(original_train_ds))] # iterate through each image\n",
        "label_count = dict(Counter(img_label))\n",
        "print(\"Labels count:\", label_count)"
      ]
    },
    {
      "cell_type": "code",
      "execution_count": 9,
      "metadata": {
        "colab": {
          "base_uri": "https://localhost:8080/",
          "height": 564
        },
        "id": "Chmnn1DjclUh",
        "outputId": "4730bc3d-f95c-4247-f093-68d9945d2019"
      },
      "outputs": [
        {
          "data": {
            "image/png": "[encoded data removed]",
            "text/plain": [
              "<Figure size 1000x600 with 1 Axes>"
            ]
          },
          "metadata": {},
          "output_type": "display_data"
        }
      ],
      "source": [
        "label_count = dict(sorted(label_count.items()))\n",
        "\n",
        "plt.figure(figsize=(10,6))\n",
        "plt.bar(label_count.keys(), label_count.values(), color = 'skyblue')\n",
        "\n",
        "plt.xlabel('Label')\n",
        "plt.ylabel('Count')\n",
        "plt.title('Distribution of image label')\n",
        "plt.xticks(list(label_count.keys()))  # Ensure x-axis ticks are the keys\n",
        "plt.show()"
      ]
    },
    {
      "cell_type": "markdown",
      "metadata": {
        "id": "dCW3FHeljtZf"
      },
      "source": [
        "# 100 labeled MNIST dataset"
      ]
    },
    {
      "cell_type": "code",
      "execution_count": 10,
      "metadata": {
        "id": "9SwdNXtPlmZ7"
      },
      "outputs": [],
      "source": [
        "def sample_100_digits(data):\n",
        "    random.seed(42)  # For reproducibility\n",
        "    labeled_indices = []\n",
        "\n",
        "    # Loop through digits 0-9 and sample 10 examples per digit\n",
        "    for digit in range(10):\n",
        "        label_indices = torch.where(data.targets == digit)[0]\n",
        "        subset_indices = random.sample(label_indices.tolist(), 10)\n",
        "        labeled_indices.extend(subset_indices)\n",
        "\n",
        "    # Create the labeled dataset (100 samples)\n",
        "    labeled_dataset = Subset(data, labeled_indices)\n",
        "\n",
        "    # Create the unlabeled dataset by removing the labeled indices\n",
        "    all_indices = set(range(len(data)))\n",
        "    unlabeled_indices = list(all_indices - set(labeled_indices))\n",
        "    unlabeled_dataset = Subset(data, unlabeled_indices)\n",
        "\n",
        "    return labeled_dataset, unlabeled_dataset\n",
        "\n",
        "# Plotting the 100 samples\n",
        "def plot_mnist_samples(dataset):\n",
        "    fig, axes = plt.subplots(10, 10, figsize=(5, 5))\n",
        "    axes = axes.flatten()\n",
        "\n",
        "    for i, (img, label) in enumerate(dataset):\n",
        "        axes[i].imshow(img[0], cmap='gray')  # Convert the 1-channel tensor to 2D image\n",
        "        axes[i].axis('off')\n",
        "        if i % 10 == 0:  # Mark the row with the digit label\n",
        "            axes[i].set_ylabel(f'Digit {label}', rotation=0, labelpad=10, fontsize=10)\n",
        "\n",
        "    plt.tight_layout()\n",
        "    plt.show()"
      ]
    },
    {
      "cell_type": "code",
      "execution_count": 11,
      "metadata": {
        "colab": {
          "base_uri": "https://localhost:8080/",
          "height": 1000
        },
        "id": "ukiLsRPJlqir",
        "outputId": "1d10edf7-f643-4c09-a1a6-26f431d9e732"
      },
      "outputs": [
        {
          "name": "stdout",
          "output_type": "stream",
          "text": [
            "Labels count: {0: 10, 1: 10, 2: 10, 3: 10, 4: 10, 5: 10, 6: 10, 7: 10, 8: 10, 9: 10}\n"
          ]
        },
        {
          "data": {
            "image/png": "[encoded data removed]",
            "text/plain": [
              "<Figure size 1000x600 with 1 Axes>"
            ]
          },
          "metadata": {},
          "output_type": "display_data"
        },
        {
          "data": {
            "image/png": "[encoded data removed]",
            "text/plain": [
              "<Figure size 500x500 with 100 Axes>"
            ]
          },
          "metadata": {},
          "output_type": "display_data"
        }
      ],
      "source": [
        "ds_100_labels, ds_unlabeled = sample_100_digits(original_train_ds)\n",
        "\n",
        "img_label = [ds_100_labels[img][1] for img in range(len(ds_100_labels))]\n",
        "label_count = dict(Counter(img_label))\n",
        "print(\"Labels count:\", label_count)\n",
        "\n",
        "label_count = dict(sorted(label_count.items()))\n",
        "\n",
        "plt.figure(figsize=(10,6))\n",
        "plt.bar(label_count.keys(), label_count.values(), color = 'skyblue')\n",
        "\n",
        "plt.xlabel('Label')\n",
        "plt.ylabel('Count')\n",
        "plt.title('Distribution of image label')\n",
        "plt.xticks(list(label_count.keys()))  # Ensure x-axis ticks are the keys\n",
        "plt.show()\n",
        "\n",
        "# plot 100 labeled data\n",
        "plot_mnist_samples(ds_100_labels)"
      ]
    },
    {
      "cell_type": "markdown",
      "metadata": {
        "id": "MQ6PpysZj1q_"
      },
      "source": [
        "# Data agumentation"
      ]
    },
    {
      "cell_type": "code",
      "execution_count": 12,
      "metadata": {
        "id": "bJ5eVnz6l8v7"
      },
      "outputs": [],
      "source": [
        "# transformer for data augmentation\n",
        "def data_transformation(data, transformer_list = [], num_per_img = 10):\n",
        "  \"\"\"\n",
        "  data augmentation applying each transforms for each original image,\n",
        "  num_per_img is the number of images augmented from each original image for each transform\n",
        "  \"\"\"\n",
        "  torch.manual_seed(42)\n",
        "  augmented_data = []\n",
        "  augmented_labels = []\n",
        "  for i in range(len(data)):\n",
        "    # Data augmentation\n",
        "    img, label = data[i]\n",
        "    augmented_data.append(img)\n",
        "    augmented_labels.append(label)\n",
        "    for t in transformer_list:\n",
        "      # Generate new images from the original image\n",
        "      for _ in range(num_per_img) :\n",
        "        random.seed(42)\n",
        "        new_img = t(img)\n",
        "        augmented_data.append(new_img)\n",
        "      # Update new labels\n",
        "      augmented_labels.extend([label] * (num_per_img))\n",
        "  augmented_data = torch.stack(augmented_data) # Concatenate a sequence of tensors\n",
        "  augmented_labels = torch.tensor(augmented_labels)\n",
        "  return TensorDataset(augmented_data, augmented_labels)\n",
        "\n",
        "# Visualize the augmented data\n",
        "def visualize_images(data, title='', rows = 10, cols =10 , fig_size = (5,5)):\n",
        "  # function to visualize images\n",
        "\n",
        "  plt.figure(figsize=fig_size)  # Set the figure size to 5x5\n",
        "  for idx, img in enumerate(data):\n",
        "    plt.subplot(rows, cols, idx + 1)\n",
        "    plt.imshow(img[0].squeeze(), cmap='gray')\n",
        "    plt.axis('off')\n",
        "  plt.suptitle(title)\n",
        "  plt.show()"
      ]
    },
    {
      "cell_type": "code",
      "execution_count": 13,
      "metadata": {
        "colab": {
          "base_uri": "https://localhost:8080/",
          "height": 505
        },
        "id": "663WO0HpmGhU",
        "outputId": "826319f2-1074-4ad1-8e1c-3ff98db197d8"
      },
      "outputs": [
        {
          "name": "stdout",
          "output_type": "stream",
          "text": [
            "Augmented data size: 5100 \n",
            "\n"
          ]
        },
        {
          "data": {
            "image/png": "[encoded data removed]",
            "text/plain": [
              "<Figure size 1000x500 with 50 Axes>"
            ]
          },
          "metadata": {},
          "output_type": "display_data"
        }
      ],
      "source": [
        "rotation45 = transforms.Compose([transforms.RandomRotation(45),\n",
        "                                 transforms.Normalize(mean, std)])\n",
        "\n",
        "crop_resize = transforms.Compose([transforms.RandomResizedCrop(28, scale=(0.8, 1), ratio = (1,1)),\n",
        "                                  transforms.Normalize(mean, std)])\n",
        "\n",
        "translation = transforms.Compose([transforms.RandomAffine(degrees = 0, translate=(0.1, 0.1)),\n",
        "                                  transforms.Normalize(mean, std)])\n",
        "\n",
        "shear30 = transforms.Compose([transforms.RandomAffine(0,shear=30),\n",
        "                            transforms.Normalize(mean, std)])\n",
        "\n",
        "transform_pipeline = transforms.Compose([transforms.RandomRotation(45),\n",
        "                                          transforms.RandomResizedCrop(28, scale=(0.8, 1), ratio = (1,1)),\n",
        "                                          transforms.RandomAffine(degrees = 0, translate=(0.1, 0.1)),\n",
        "                                          transforms.RandomAffine(degrees = 0, shear = 30),\n",
        "                                          transforms.Normalize(mean, std)])\n",
        "\n",
        "transformer_list = [rotation45, crop_resize, translation, shear30, transform_pipeline]\n",
        "\n",
        "data_aug = data_transformation(ds_100_labels, transformer_list, num_per_img = 10)\n",
        "print(\"Augmented data size:\", len(data_aug), \"\\n\")\n",
        "\n",
        "# select a digit from augmented data to plot\n",
        "selected_digit = 2\n",
        "targets_aug = []\n",
        "for img in data_aug:\n",
        "  targets_aug.append(img[1])\n",
        "indices_label = [i for i in range(len(targets_aug)) if targets_aug[i] == selected_digit]\n",
        "\n",
        "# visualize selected digit\n",
        "visualize_images(Subset(data_aug, indices_label[:50]), title=f'Augmented images of digit {selected_digit}' , rows = 5, cols = 10, fig_size = (10,5))"
      ]
    },
    {
      "cell_type": "code",
      "execution_count": 14,
      "metadata": {
        "id": "4Qyy70VyclUi"
      },
      "outputs": [],
      "source": [
        "# Get labels to stratify the split\n",
        "labels = []\n",
        "for i in range(len(data_aug)) :\n",
        "  _, label = data_aug[i]\n",
        "  labels.append(label)\n",
        "\n",
        "# Split indices if the dataset is composed of images\n",
        "train_idx, val_idx = train_test_split(list(range(len(labels))),\n",
        "                                              test_size = 0.2,\n",
        "                                              stratify = labels,\n",
        "                                              random_state = 42,\n",
        "                                              shuffle=True)\n",
        "\n",
        "train_set = torch.utils.data.Subset(data_aug, train_idx)\n",
        "val_set = torch.utils.data.Subset(data_aug, val_idx)"
      ]
    },
    {
      "cell_type": "code",
      "execution_count": 15,
      "metadata": {
        "colab": {
          "base_uri": "https://localhost:8080/"
        },
        "id": "DGzjuoOiclUi",
        "outputId": "66a4961f-fd4c-4f61-b4e8-0d09212b33b9"
      },
      "outputs": [
        {
          "name": "stdout",
          "output_type": "stream",
          "text": [
            "Labels count for training set: {7: 408, 3: 408, 5: 408, 2: 408, 8: 408, 6: 408, 4: 408, 0: 408, 9: 408, 1: 408}\n"
          ]
        }
      ],
      "source": [
        "label_counts = Counter(int(train_set[i][1]) for i in range(len(train_set)))\n",
        "print(\"Labels count for training set:\", dict(label_counts))"
      ]
    },
    {
      "cell_type": "code",
      "execution_count": 16,
      "metadata": {
        "colab": {
          "base_uri": "https://localhost:8080/"
        },
        "id": "uNj2ULZWclUi",
        "outputId": "9b97dbfb-1c7c-4f8c-8e99-16616f773032"
      },
      "outputs": [
        {
          "name": "stdout",
          "output_type": "stream",
          "text": [
            "Labels count for validaiton set: {6: 102, 3: 102, 0: 102, 7: 102, 8: 102, 5: 102, 2: 102, 1: 102, 4: 102, 9: 102}\n"
          ]
        }
      ],
      "source": [
        "label_counts = Counter(int(val_set[i][1]) for i in range(len(val_set)))\n",
        "print(\"Labels count for validaiton set:\", dict(label_counts))"
      ]
    },
    {
      "cell_type": "markdown",
      "metadata": {
        "id": "xyS7qkPvml8H"
      },
      "source": [
        "# Model architecture"
      ]
    },
    {
      "cell_type": "code",
      "execution_count": 17,
      "metadata": {
        "colab": {
          "base_uri": "https://localhost:8080/"
        },
        "id": "WEE-KgeJmnF9",
        "outputId": "0d4de1d4-0323-4fae-9324-ae211f2cc112"
      },
      "outputs": [
        {
          "name": "stdout",
          "output_type": "stream",
          "text": [
            "CNN(\n",
            "  (conv1): Conv2d(1, 32, kernel_size=(3, 3), stride=(1, 1), padding=same)\n",
            "  (batchnorm1): BatchNorm2d(32, eps=1e-05, momentum=0.1, affine=True, track_running_stats=True)\n",
            "  (pool1): MaxPool2d(kernel_size=2, stride=2, padding=0, dilation=1, ceil_mode=False)\n",
            "  (conv2): Conv2d(32, 64, kernel_size=(3, 3), stride=(1, 1))\n",
            "  (batchnorm2): BatchNorm2d(64, eps=1e-05, momentum=0.1, affine=True, track_running_stats=True)\n",
            "  (pool2): MaxPool2d(kernel_size=2, stride=2, padding=0, dilation=1, ceil_mode=False)\n",
            "  (conv3): Conv2d(64, 128, kernel_size=(3, 3), stride=(1, 1))\n",
            "  (batchnorm3): BatchNorm2d(128, eps=1e-05, momentum=0.1, affine=True, track_running_stats=True)\n",
            "  (pool3): MaxPool2d(kernel_size=2, stride=2, padding=0, dilation=1, ceil_mode=False)\n",
            "  (fc1): Linear(in_features=512, out_features=192, bias=True)\n",
            "  (batchnorm4): BatchNorm1d(192, eps=1e-05, momentum=0.1, affine=True, track_running_stats=True)\n",
            "  (fc2): Linear(in_features=192, out_features=64, bias=True)\n",
            "  (batchnorm5): BatchNorm1d(64, eps=1e-05, momentum=0.1, affine=True, track_running_stats=True)\n",
            "  (fc3): Linear(in_features=64, out_features=10, bias=True)\n",
            ")\n",
            "Model memory allocation : 0.00e+00\n",
            "205130 total parameters.\n",
            "205130 training parameters.\n",
            "\n",
            "\n",
            "\n",
            "----------------------------------------------------------------\n",
            "        Layer (type)               Output Shape         Param #\n",
            "================================================================\n",
            "            Conv2d-1           [-1, 32, 28, 28]             320\n",
            "       BatchNorm2d-2           [-1, 32, 28, 28]              64\n",
            "         MaxPool2d-3           [-1, 32, 14, 14]               0\n",
            "            Conv2d-4           [-1, 64, 12, 12]          18,496\n",
            "       BatchNorm2d-5           [-1, 64, 12, 12]             128\n",
            "         MaxPool2d-6             [-1, 64, 6, 6]               0\n",
            "            Conv2d-7            [-1, 128, 4, 4]          73,856\n",
            "       BatchNorm2d-8            [-1, 128, 4, 4]             256\n",
            "         MaxPool2d-9            [-1, 128, 2, 2]               0\n",
            "           Linear-10                  [-1, 192]          98,496\n",
            "      BatchNorm1d-11                  [-1, 192]             384\n",
            "           Linear-12                   [-1, 64]          12,352\n",
            "      BatchNorm1d-13                   [-1, 64]             128\n",
            "           Linear-14                   [-1, 10]             650\n",
            "================================================================\n",
            "Total params: 205,130\n",
            "Trainable params: 205,130\n",
            "Non-trainable params: 0\n",
            "----------------------------------------------------------------\n",
            "Input size (MB): 0.00\n",
            "Forward/backward pass size (MB): 0.63\n",
            "Params size (MB): 0.78\n",
            "Estimated Total Size (MB): 1.41\n",
            "----------------------------------------------------------------\n"
          ]
        }
      ],
      "source": [
        "def get_memory_params_model(model):\n",
        "  # Model architecture\n",
        "  print(model)\n",
        "  print(\"Model memory allocation : {:.2e}\".format(torch.cuda.memory_reserved(0) - torch.cuda.memory_allocated(0)))\n",
        "\n",
        "  # Find total parameters and trainable parameters\n",
        "  total_params = sum(p.numel() for p in model.parameters())\n",
        "  print(\"{} total parameters.\".format(total_params))\n",
        "  total_trainable_params = sum(p.numel() for p in model.parameters() if p.requires_grad)\n",
        "  print(\"{} training parameters.\".format(total_trainable_params))\n",
        "\n",
        "class CNN(nn.Module):\n",
        "  def __init__(self):\n",
        "    super().__init__() # always subclass\n",
        "    self.conv1 = nn.Conv2d(1, 32, kernel_size=3, padding = \"same\") # conv layer 28x28x32\n",
        "    self.batchnorm1 = nn.BatchNorm2d(32)\n",
        "    self.pool1 = nn.MaxPool2d(2) # maxpooling 14x14x32\n",
        "\n",
        "    self.conv2 = nn.Conv2d(32, 64, kernel_size=3) # first conv layer 12x12x64\n",
        "    self.batchnorm2 = nn.BatchNorm2d(64)\n",
        "    self.pool2 = nn.MaxPool2d(2) # maxpooling 6x6x64\n",
        "\n",
        "    self.conv3 = nn.Conv2d(64, 128, kernel_size=3) # conv lazyer 4x4x128\n",
        "    self.batchnorm3 = nn.BatchNorm2d(128)\n",
        "    self.pool3 = nn.MaxPool2d(2) # maxpooling 2x2x128\n",
        "\n",
        "    self.fc1 = nn.Linear(128*2*2, 192) # we have 10 probability classes to predict so 10 output features\n",
        "    self.batchnorm4 = nn.BatchNorm1d(192)\n",
        "    self.fc2 = nn.Linear(192, 64)\n",
        "    self.batchnorm5 = nn.BatchNorm1d(64)\n",
        "    self.fc3 = nn.Linear(64, 10)\n",
        "\n",
        "  def forward(self, x):\n",
        "    x = self.conv1(x)\n",
        "    x = self.batchnorm1(x)\n",
        "    x = F.relu(x)\n",
        "    x = self.pool1(x)\n",
        "\n",
        "    x = self.conv2(x)\n",
        "    x = self.batchnorm2(x)\n",
        "    x = F.relu(x)\n",
        "    x = self.pool2(x)\n",
        "\n",
        "    x = self.conv3(x)\n",
        "    x = self.batchnorm3(x)\n",
        "    x = F.relu(x)\n",
        "    x = self.pool3(x)\n",
        "\n",
        "    x = torch.flatten(x, 1)\n",
        "    x = self.fc1(x)\n",
        "    x = self.batchnorm4(x)\n",
        "    x = F.relu(x)\n",
        "    x = self.fc2(x)\n",
        "    x = self.batchnorm5(x)\n",
        "    x = F.relu(x)\n",
        "    x = self.fc3(x)\n",
        "\n",
        "    return x\n",
        "\n",
        "cnn = CNN().to(device)\n",
        "get_memory_params_model(cnn)\n",
        "print(\"\\n\\n\")\n",
        "summary(cnn, input_size=(1, 28, 28))"
      ]
    },
    {
      "cell_type": "markdown",
      "metadata": {
        "id": "KPAWH3oFmslV"
      },
      "source": [
        "# Functions for training and evaluation phase"
      ]
    },
    {
      "cell_type": "code",
      "execution_count": 18,
      "metadata": {
        "id": "6Km_umJnmubx"
      },
      "outputs": [],
      "source": [
        "# Data Loader\n",
        "def load_data(train, val, test, train_batch, val_batch, test_batch):\n",
        "  torch.manual_seed(42)\n",
        "  train_loader = torch.utils.data.DataLoader(train, batch_size=train_batch,\n",
        "                                          shuffle=True, num_workers=0)\n",
        "  val_loader = torch.utils.data.DataLoader(val, batch_size=val_batch,\n",
        "                                         shuffle=False, num_workers=0)\n",
        "  test_loader = torch.utils.data.DataLoader(test, batch_size=test_batch,\n",
        "                                         shuffle=False, num_workers=0)\n",
        "  return train_loader, val_loader, test_loader\n",
        "\n",
        "def get_accuracy(y_true, y_pred):\n",
        "    return int(np.sum(np.equal(y_true,y_pred))) / y_true.shape[0]\n",
        "\n",
        "# class to implement Early Stopping\n",
        "class EarlyStopping:\n",
        "  \"\"\"Early stops the training if validation loss doesn't improve after a given patience.\"\"\"\n",
        "  def __init__(self, patience=1, min_delta=0):\n",
        "    self.patience = patience\n",
        "    self.min_delta = min_delta\n",
        "    self.counter = 0\n",
        "    self.min_validation_loss = float('inf')\n",
        "\n",
        "  def early_stop(self, validation_loss):\n",
        "    if validation_loss < self.min_validation_loss:\n",
        "      self.min_validation_loss = validation_loss\n",
        "      self.counter = 0\n",
        "    elif validation_loss > (self.min_validation_loss + self.min_delta):\n",
        "      self.counter += 1\n",
        "      print(f'EarlyStopping counter: {self.counter} out of {self.patience}')\n",
        "      if self.counter >= self.patience:\n",
        "        return True\n",
        "    return False\n",
        "\n",
        "# Train function\n",
        "def train_model(model, epochs, train_loader, val_loader, optimizer_name = 'Adam', patience = 1, early_stopping = True, learning_rate = 0.001, device=None):\n",
        "  torch.manual_seed(42)\n",
        "  # Init\n",
        "  output_fn = torch.nn.Softmax(dim=1) # we instantiate the softmax activation function for the output probabilities\n",
        "  criterion = nn.CrossEntropyLoss() # we instantiate the loss function\n",
        "  optimizer = getattr(optim, optimizer_name)(model.parameters(), lr=learning_rate) # we instantiate Adam optimizer that takes as inputs the model parameters and learning rate\n",
        "\n",
        "  loss_valid,acc_valid =[],[]\n",
        "  loss_train,acc_train =[],[]\n",
        "\n",
        "  # initialize the early_stopping object\n",
        "  if early_stopping:\n",
        "    early_stopper = EarlyStopping(patience=patience)\n",
        "\n",
        "  for epoch in tqdm(range(epochs)):\n",
        "    torch.manual_seed(42)\n",
        "    # Training loop\n",
        "    model.train() # always specify that the model is in training mode\n",
        "    running_loss = 0.0 # init loss\n",
        "    running_acc = 0.\n",
        "\n",
        "    # Loop over batches returned by the data loader\n",
        "    for idx, batch in enumerate(train_loader):\n",
        "\n",
        "      # get the inputs; batch is a tuple of (inputs, labels)\n",
        "      inputs, labels = batch\n",
        "      inputs = inputs.to(device) # put the data on the same device as the model\n",
        "      labels = labels.to(device)\n",
        "\n",
        "      # put to zero the parameters gradients at each iteration to avoid accumulations\n",
        "      optimizer.zero_grad()\n",
        "\n",
        "      # forward pass + backward pass + update the model parameters\n",
        "      out = model(x=inputs) # get predictions\n",
        "      loss = criterion(out, labels) # compute loss\n",
        "      loss.backward() # compute gradients\n",
        "      optimizer.step() # update model parameters according to these gradients and our optimizer strategy\n",
        "\n",
        "      # Iteration train metrics\n",
        "      running_loss += loss.view(1).item()\n",
        "      t_out = output_fn(out.detach()).cpu().numpy() # compute softmax (previously instantiated) and detach predictions from the model graph\n",
        "      t_out=t_out.argmax(axis=1)  # the class with the highest energy is what we choose as prediction\n",
        "      ground_truth = labels.cpu().numpy() # detach the labels from GPU device\n",
        "      running_acc += get_accuracy(ground_truth, t_out)\n",
        "\n",
        "    ### Epochs train metrics ###\n",
        "    acc_train.append(running_acc/len(train_loader))\n",
        "    loss_train.append(running_loss/len(train_loader))\n",
        "\n",
        "    # compute loss and accuracy after an epoch on the train and valid set\n",
        "    model.eval() # put the model in evaluation mode (this prevents the use of dropout layers for instance)\n",
        "\n",
        "    ### VALIDATION DATA ###\n",
        "    with torch.no_grad(): # since we're not training, we don't need to calculate the gradients for our outputs\n",
        "      idx = 0\n",
        "      for batch in val_loader:\n",
        "        inputs,labels=batch\n",
        "        inputs=inputs.to(device)\n",
        "        labels=labels.to(device)\n",
        "        if idx==0:\n",
        "          t_out = model(x=inputs)\n",
        "          t_loss = criterion(t_out, labels).view(1).item()\n",
        "          t_out = output_fn(t_out).detach().cpu().numpy() # compute softmax (previously instantiated) and detach predictions from the model graph\n",
        "          t_out=t_out.argmax(axis=1)  # the class with the highest energy is what we choose as prediction\n",
        "          ground_truth = labels.cpu().numpy() # detach the labels from GPU device\n",
        "        else:\n",
        "          out = model(x=inputs)\n",
        "          t_loss = np.hstack((t_loss,criterion(out, labels).item()))\n",
        "          t_out = np.hstack((t_out,output_fn(out).argmax(axis=1).detach().cpu().numpy()))\n",
        "          ground_truth = np.hstack((ground_truth,labels.detach().cpu().numpy()))\n",
        "        idx+=1\n",
        "\n",
        "      acc_valid.append(get_accuracy(ground_truth,t_out))\n",
        "      loss_valid.append(np.mean(t_loss))\n",
        "\n",
        "    print('| Epoch: {}/{} | Train: Loss {:.4f} Accuracy : {:.4f} '\\\n",
        "        '| Val: Loss {:.4f} Accuracy : {:.4f}\\n'.format(epoch+1,epochs,loss_train[epoch],acc_train[epoch],loss_valid[epoch],acc_valid[epoch]))\n",
        "\n",
        "    # early_stopping check if the validation loss has decresed, if yes, it will make a checkpoint of the current model\n",
        "    if early_stopping:\n",
        "      stop_bool = early_stopper.early_stop(loss_valid[epoch])\n",
        "      if stop_bool:\n",
        "        print(\"Early stopping\")\n",
        "        break\n",
        "\n",
        "  # load the last checkpoint with the best model\n",
        "  #if early_stopping:\n",
        "    #model.load_state_dict(torch.load('checkpoint.pt'))\n",
        "\n",
        "  return loss_train, loss_valid, acc_train, acc_valid\n",
        "\n",
        "def plot_accuracy_loss(model_name, loss_train, loss_valid, acc_train, acc_valid) :\n",
        "  \"\"\"plot the accuracy and loss functions (for each epoch)\n",
        "    early_stop_point = True: visualize the early stopping\n",
        "  \"\"\"\n",
        "\n",
        "  fig = plt.figure(figsize = (12, 5))\n",
        "\n",
        "  # --- Metrics plot\n",
        "  def plot_metric(model_name, metric_train, metric_valid, metric_name) :\n",
        "    \"\"\"plot metrics of both datasets\"\"\"\n",
        "    plt.plot(range(1, len(metric_train) + 1), metric_train, label='training set', marker='o', linestyle='solid',linewidth=1, markersize=6)\n",
        "    plt.plot(range(1, len(metric_valid) + 1), metric_valid, label='validation set', marker='o', linestyle='solid',linewidth=1, markersize=6)\n",
        "    # find position of lowest validation loss\n",
        "    plt.title(f\"{model_name}-model {metric_name}\")\n",
        "    plt.xlabel('#Epochs')\n",
        "    plt.ylabel(f'{metric_name}')\n",
        "    plt.legend(bbox_to_anchor=( 1., 1.))\n",
        "\n",
        "  # Plot loss functions\n",
        "  ax = fig.add_subplot(121)\n",
        "  for side in ['right', 'top']:\n",
        "    ax.spines[side].set_visible(False)\n",
        "  plot_metric(model_name, loss_train, loss_valid, \"Loss\")\n",
        "\n",
        "  # Plot accuracy function\n",
        "  ax = fig.add_subplot(122)\n",
        "  for side in ['right', 'top']:\n",
        "    ax.spines[side].set_visible(False)\n",
        "  plot_metric(model_name, acc_train, acc_valid, \"Accuracy\")\n",
        "\n",
        "def test_model(model, test_loader):\n",
        "  output_fn = torch.nn.Softmax(dim=1)\n",
        "  model.eval()\n",
        "  torch.manual_seed(42)\n",
        "  with torch.no_grad():\n",
        "    idx = 0\n",
        "    for batch in test_loader:\n",
        "      inputs,labels=batch\n",
        "      inputs=inputs.to(device)\n",
        "      labels=labels.to(device)\n",
        "      if idx==0:\n",
        "        t_out = model(x=inputs)\n",
        "        t_out = output_fn(t_out).detach().cpu().numpy()\n",
        "        t_out=t_out.argmax(axis=1)\n",
        "        ground_truth = labels.detach().cpu().numpy()\n",
        "      else:\n",
        "        out = model(x=inputs)\n",
        "        t_out = np.hstack((t_out,output_fn(out).argmax(axis=1).detach().cpu().numpy()))\n",
        "        ground_truth = np.hstack((ground_truth,labels.detach().cpu().numpy()))\n",
        "      idx+=1\n",
        "\n",
        "  return get_accuracy(ground_truth,t_out)"
      ]
    },
    {
      "cell_type": "markdown",
      "metadata": {
        "id": "BouLzi_rn8YW"
      },
      "source": [
        "# Training, Validating, Testing"
      ]
    },
    {
      "cell_type": "code",
      "execution_count": 19,
      "metadata": {
        "id": "Jnm1aHk-n7ny"
      },
      "outputs": [],
      "source": [
        "# Load data for train, validate, test\n",
        "train_ld, val_ld, test_ld = load_data(train_set, val_set, original_test_ds, 32, 32, 64)\n",
        "num_epochs = 32"
      ]
    },
    {
      "cell_type": "code",
      "execution_count": 20,
      "metadata": {
        "colab": {
          "base_uri": "https://localhost:8080/",
          "height": 1000
        },
        "id": "eQSb548Io8fu",
        "outputId": "0a61b2eb-742b-449d-c6c4-92a528788187"
      },
      "outputs": [
        {
          "name": "stderr",
          "output_type": "stream",
          "text": [
            "  2%|▏         | 1/64 [00:07<08:08,  7.75s/it]"
          ]
        },
        {
          "name": "stdout",
          "output_type": "stream",
          "text": [
            "| Epoch: 1/64 | Train: Loss 0.8191 Accuracy : 0.8198 | Val: Loss 0.3467 Accuracy : 0.9225\n",
            "\n"
          ]
        },
        {
          "name": "stderr",
          "output_type": "stream",
          "text": [
            "\r  3%|▎         | 2/64 [00:22<12:32, 12.13s/it]"
          ]
        },
        {
          "name": "stdout",
          "output_type": "stream",
          "text": [
            "| Epoch: 2/64 | Train: Loss 0.1983 Accuracy : 0.9614 | Val: Loss 0.2717 Accuracy : 0.9314\n",
            "\n"
          ]
        },
        {
          "name": "stderr",
          "output_type": "stream",
          "text": [
            "\r  5%|▍         | 3/64 [00:32<11:08, 10.96s/it]"
          ]
        },
        {
          "name": "stdout",
          "output_type": "stream",
          "text": [
            "| Epoch: 3/64 | Train: Loss 0.0663 Accuracy : 0.9917 | Val: Loss 0.1418 Accuracy : 0.9657\n",
            "\n"
          ]
        },
        {
          "name": "stderr",
          "output_type": "stream",
          "text": [
            "\r  6%|▋         | 4/64 [00:40<09:53,  9.89s/it]"
          ]
        },
        {
          "name": "stdout",
          "output_type": "stream",
          "text": [
            "| Epoch: 4/64 | Train: Loss 0.0271 Accuracy : 0.9980 | Val: Loss 0.1466 Accuracy : 0.9539\n",
            "\n"
          ]
        },
        {
          "name": "stderr",
          "output_type": "stream",
          "text": [
            "\r  8%|▊         | 5/64 [00:50<09:49, 10.00s/it]"
          ]
        },
        {
          "name": "stdout",
          "output_type": "stream",
          "text": [
            "| Epoch: 5/64 | Train: Loss 0.0108 Accuracy : 1.0000 | Val: Loss 0.0696 Accuracy : 0.9784\n",
            "\n"
          ]
        },
        {
          "name": "stderr",
          "output_type": "stream",
          "text": [
            "\r  9%|▉         | 6/64 [01:02<10:09, 10.52s/it]"
          ]
        },
        {
          "name": "stdout",
          "output_type": "stream",
          "text": [
            "| Epoch: 6/64 | Train: Loss 0.0052 Accuracy : 1.0000 | Val: Loss 0.0536 Accuracy : 0.9814\n",
            "\n"
          ]
        },
        {
          "name": "stderr",
          "output_type": "stream",
          "text": [
            "\r 11%|█         | 7/64 [01:10<09:05,  9.57s/it]"
          ]
        },
        {
          "name": "stdout",
          "output_type": "stream",
          "text": [
            "| Epoch: 7/64 | Train: Loss 0.0034 Accuracy : 1.0000 | Val: Loss 0.0506 Accuracy : 0.9824\n",
            "\n"
          ]
        },
        {
          "name": "stderr",
          "output_type": "stream",
          "text": [
            "\r 12%|█▎        | 8/64 [01:18<08:29,  9.09s/it]"
          ]
        },
        {
          "name": "stdout",
          "output_type": "stream",
          "text": [
            "| Epoch: 8/64 | Train: Loss 0.0025 Accuracy : 1.0000 | Val: Loss 0.0493 Accuracy : 0.9824\n",
            "\n"
          ]
        },
        {
          "name": "stderr",
          "output_type": "stream",
          "text": [
            "\r 14%|█▍        | 9/64 [01:25<07:48,  8.52s/it]"
          ]
        },
        {
          "name": "stdout",
          "output_type": "stream",
          "text": [
            "| Epoch: 9/64 | Train: Loss 0.0020 Accuracy : 1.0000 | Val: Loss 0.0485 Accuracy : 0.9824\n",
            "\n"
          ]
        },
        {
          "name": "stderr",
          "output_type": "stream",
          "text": [
            "\r 16%|█▌        | 10/64 [01:33<07:38,  8.49s/it]"
          ]
        },
        {
          "name": "stdout",
          "output_type": "stream",
          "text": [
            "| Epoch: 10/64 | Train: Loss 0.0016 Accuracy : 1.0000 | Val: Loss 0.0479 Accuracy : 0.9824\n",
            "\n"
          ]
        },
        {
          "name": "stderr",
          "output_type": "stream",
          "text": [
            "\r 17%|█▋        | 11/64 [01:42<07:25,  8.41s/it]"
          ]
        },
        {
          "name": "stdout",
          "output_type": "stream",
          "text": [
            "| Epoch: 11/64 | Train: Loss 0.0014 Accuracy : 1.0000 | Val: Loss 0.0474 Accuracy : 0.9824\n",
            "\n"
          ]
        },
        {
          "name": "stderr",
          "output_type": "stream",
          "text": [
            "\r 19%|█▉        | 12/64 [01:49<06:58,  8.04s/it]"
          ]
        },
        {
          "name": "stdout",
          "output_type": "stream",
          "text": [
            "| Epoch: 12/64 | Train: Loss 0.0011 Accuracy : 1.0000 | Val: Loss 0.0469 Accuracy : 0.9824\n",
            "\n"
          ]
        },
        {
          "name": "stderr",
          "output_type": "stream",
          "text": [
            "\r 20%|██        | 13/64 [01:57<06:48,  8.02s/it]"
          ]
        },
        {
          "name": "stdout",
          "output_type": "stream",
          "text": [
            "| Epoch: 13/64 | Train: Loss 0.0010 Accuracy : 1.0000 | Val: Loss 0.0466 Accuracy : 0.9833\n",
            "\n"
          ]
        },
        {
          "name": "stderr",
          "output_type": "stream",
          "text": [
            "\r 22%|██▏       | 14/64 [02:04<06:33,  7.88s/it]"
          ]
        },
        {
          "name": "stdout",
          "output_type": "stream",
          "text": [
            "| Epoch: 14/64 | Train: Loss 0.0008 Accuracy : 1.0000 | Val: Loss 0.0463 Accuracy : 0.9833\n",
            "\n"
          ]
        },
        {
          "name": "stderr",
          "output_type": "stream",
          "text": [
            "\r 23%|██▎       | 15/64 [02:12<06:27,  7.91s/it]"
          ]
        },
        {
          "name": "stdout",
          "output_type": "stream",
          "text": [
            "| Epoch: 15/64 | Train: Loss 0.0007 Accuracy : 1.0000 | Val: Loss 0.0461 Accuracy : 0.9833\n",
            "\n"
          ]
        },
        {
          "name": "stderr",
          "output_type": "stream",
          "text": [
            "\r 25%|██▌       | 16/64 [02:20<06:23,  7.98s/it]"
          ]
        },
        {
          "name": "stdout",
          "output_type": "stream",
          "text": [
            "| Epoch: 16/64 | Train: Loss 0.0006 Accuracy : 1.0000 | Val: Loss 0.0459 Accuracy : 0.9833\n",
            "\n"
          ]
        },
        {
          "name": "stderr",
          "output_type": "stream",
          "text": [
            "\r 27%|██▋       | 17/64 [02:28<06:02,  7.71s/it]"
          ]
        },
        {
          "name": "stdout",
          "output_type": "stream",
          "text": [
            "| Epoch: 17/64 | Train: Loss 0.0006 Accuracy : 1.0000 | Val: Loss 0.0459 Accuracy : 0.9833\n",
            "\n"
          ]
        },
        {
          "name": "stderr",
          "output_type": "stream",
          "text": [
            "\r 28%|██▊       | 18/64 [02:36<06:04,  7.93s/it]"
          ]
        },
        {
          "name": "stdout",
          "output_type": "stream",
          "text": [
            "| Epoch: 18/64 | Train: Loss 0.0005 Accuracy : 1.0000 | Val: Loss 0.0457 Accuracy : 0.9833\n",
            "\n"
          ]
        },
        {
          "name": "stderr",
          "output_type": "stream",
          "text": [
            "\r 30%|██▉       | 19/64 [02:43<05:45,  7.69s/it]"
          ]
        },
        {
          "name": "stdout",
          "output_type": "stream",
          "text": [
            "| Epoch: 19/64 | Train: Loss 0.0004 Accuracy : 1.0000 | Val: Loss 0.0456 Accuracy : 0.9833\n",
            "\n"
          ]
        },
        {
          "name": "stderr",
          "output_type": "stream",
          "text": [
            "\r 31%|███▏      | 20/64 [02:51<05:42,  7.77s/it]"
          ]
        },
        {
          "name": "stdout",
          "output_type": "stream",
          "text": [
            "| Epoch: 20/64 | Train: Loss 0.0004 Accuracy : 1.0000 | Val: Loss 0.0456 Accuracy : 0.9833\n",
            "\n"
          ]
        },
        {
          "name": "stderr",
          "output_type": "stream",
          "text": [
            "\r 33%|███▎      | 21/64 [03:00<05:45,  8.03s/it]"
          ]
        },
        {
          "name": "stdout",
          "output_type": "stream",
          "text": [
            "| Epoch: 21/64 | Train: Loss 0.0003 Accuracy : 1.0000 | Val: Loss 0.0455 Accuracy : 0.9833\n",
            "\n"
          ]
        },
        {
          "name": "stderr",
          "output_type": "stream",
          "text": [
            "\r 34%|███▍      | 22/64 [03:07<05:24,  7.72s/it]"
          ]
        },
        {
          "name": "stdout",
          "output_type": "stream",
          "text": [
            "| Epoch: 22/64 | Train: Loss 0.0003 Accuracy : 1.0000 | Val: Loss 0.0455 Accuracy : 0.9833\n",
            "\n"
          ]
        },
        {
          "name": "stderr",
          "output_type": "stream",
          "text": [
            "\r 36%|███▌      | 23/64 [03:15<05:18,  7.78s/it]"
          ]
        },
        {
          "name": "stdout",
          "output_type": "stream",
          "text": [
            "| Epoch: 23/64 | Train: Loss 0.0003 Accuracy : 1.0000 | Val: Loss 0.0455 Accuracy : 0.9833\n",
            "\n"
          ]
        },
        {
          "name": "stderr",
          "output_type": "stream",
          "text": [
            "\r 38%|███▊      | 24/64 [03:24<05:26,  8.17s/it]"
          ]
        },
        {
          "name": "stdout",
          "output_type": "stream",
          "text": [
            "| Epoch: 24/64 | Train: Loss 0.0003 Accuracy : 1.0000 | Val: Loss 0.0454 Accuracy : 0.9833\n",
            "\n"
          ]
        },
        {
          "name": "stderr",
          "output_type": "stream",
          "text": [
            "\r 39%|███▉      | 25/64 [03:33<05:26,  8.37s/it]"
          ]
        },
        {
          "name": "stdout",
          "output_type": "stream",
          "text": [
            "| Epoch: 25/64 | Train: Loss 0.0002 Accuracy : 1.0000 | Val: Loss 0.0454 Accuracy : 0.9833\n",
            "\n"
          ]
        },
        {
          "name": "stderr",
          "output_type": "stream",
          "text": [
            "\r 41%|████      | 26/64 [03:41<05:17,  8.36s/it]"
          ]
        },
        {
          "name": "stdout",
          "output_type": "stream",
          "text": [
            "| Epoch: 26/64 | Train: Loss 0.0002 Accuracy : 1.0000 | Val: Loss 0.0455 Accuracy : 0.9833\n",
            "\n"
          ]
        },
        {
          "name": "stderr",
          "output_type": "stream",
          "text": [
            "\r 42%|████▏     | 27/64 [03:48<04:55,  7.98s/it]"
          ]
        },
        {
          "name": "stdout",
          "output_type": "stream",
          "text": [
            "| Epoch: 27/64 | Train: Loss 0.0002 Accuracy : 1.0000 | Val: Loss 0.0455 Accuracy : 0.9833\n",
            "\n"
          ]
        },
        {
          "name": "stderr",
          "output_type": "stream",
          "text": [
            "\r 44%|████▍     | 28/64 [03:56<04:47,  7.99s/it]"
          ]
        },
        {
          "name": "stdout",
          "output_type": "stream",
          "text": [
            "| Epoch: 28/64 | Train: Loss 0.0002 Accuracy : 1.0000 | Val: Loss 0.0455 Accuracy : 0.9833\n",
            "\n"
          ]
        },
        {
          "name": "stderr",
          "output_type": "stream",
          "text": [
            "\r 45%|████▌     | 29/64 [04:04<04:35,  7.87s/it]"
          ]
        },
        {
          "name": "stdout",
          "output_type": "stream",
          "text": [
            "| Epoch: 29/64 | Train: Loss 0.0002 Accuracy : 1.0000 | Val: Loss 0.0455 Accuracy : 0.9833\n",
            "\n"
          ]
        },
        {
          "name": "stderr",
          "output_type": "stream",
          "text": [
            "\r 47%|████▋     | 30/64 [04:11<04:23,  7.74s/it]"
          ]
        },
        {
          "name": "stdout",
          "output_type": "stream",
          "text": [
            "| Epoch: 30/64 | Train: Loss 0.0001 Accuracy : 1.0000 | Val: Loss 0.0455 Accuracy : 0.9833\n",
            "\n"
          ]
        },
        {
          "name": "stderr",
          "output_type": "stream",
          "text": [
            "\r 48%|████▊     | 31/64 [04:19<04:16,  7.76s/it]"
          ]
        },
        {
          "name": "stdout",
          "output_type": "stream",
          "text": [
            "| Epoch: 31/64 | Train: Loss 0.0001 Accuracy : 1.0000 | Val: Loss 0.0455 Accuracy : 0.9824\n",
            "\n"
          ]
        },
        {
          "name": "stderr",
          "output_type": "stream",
          "text": [
            "\r 50%|█████     | 32/64 [04:26<04:01,  7.54s/it]"
          ]
        },
        {
          "name": "stdout",
          "output_type": "stream",
          "text": [
            "| Epoch: 32/64 | Train: Loss 0.0001 Accuracy : 1.0000 | Val: Loss 0.0456 Accuracy : 0.9824\n",
            "\n"
          ]
        },
        {
          "name": "stderr",
          "output_type": "stream",
          "text": [
            "\r 52%|█████▏    | 33/64 [04:34<03:56,  7.63s/it]"
          ]
        },
        {
          "name": "stdout",
          "output_type": "stream",
          "text": [
            "| Epoch: 33/64 | Train: Loss 0.0001 Accuracy : 1.0000 | Val: Loss 0.0456 Accuracy : 0.9824\n",
            "\n"
          ]
        },
        {
          "name": "stderr",
          "output_type": "stream",
          "text": [
            "\r 53%|█████▎    | 34/64 [04:41<03:43,  7.45s/it]"
          ]
        },
        {
          "name": "stdout",
          "output_type": "stream",
          "text": [
            "| Epoch: 34/64 | Train: Loss 0.0001 Accuracy : 1.0000 | Val: Loss 0.0457 Accuracy : 0.9824\n",
            "\n"
          ]
        },
        {
          "name": "stderr",
          "output_type": "stream",
          "text": [
            "\r 55%|█████▍    | 35/64 [04:48<03:39,  7.55s/it]"
          ]
        },
        {
          "name": "stdout",
          "output_type": "stream",
          "text": [
            "| Epoch: 35/64 | Train: Loss 0.0001 Accuracy : 1.0000 | Val: Loss 0.0457 Accuracy : 0.9824\n",
            "\n"
          ]
        },
        {
          "name": "stderr",
          "output_type": "stream",
          "text": [
            "\r 56%|█████▋    | 36/64 [04:56<03:33,  7.63s/it]"
          ]
        },
        {
          "name": "stdout",
          "output_type": "stream",
          "text": [
            "| Epoch: 36/64 | Train: Loss 0.0001 Accuracy : 1.0000 | Val: Loss 0.0458 Accuracy : 0.9824\n",
            "\n"
          ]
        },
        {
          "name": "stderr",
          "output_type": "stream",
          "text": [
            "\r 58%|█████▊    | 37/64 [05:03<03:21,  7.45s/it]"
          ]
        },
        {
          "name": "stdout",
          "output_type": "stream",
          "text": [
            "| Epoch: 37/64 | Train: Loss 0.0001 Accuracy : 1.0000 | Val: Loss 0.0458 Accuracy : 0.9833\n",
            "\n"
          ]
        },
        {
          "name": "stderr",
          "output_type": "stream",
          "text": [
            "\r 59%|█████▉    | 38/64 [05:12<03:26,  7.93s/it]"
          ]
        },
        {
          "name": "stdout",
          "output_type": "stream",
          "text": [
            "| Epoch: 38/64 | Train: Loss 0.0001 Accuracy : 1.0000 | Val: Loss 0.0459 Accuracy : 0.9833\n",
            "\n"
          ]
        },
        {
          "name": "stderr",
          "output_type": "stream",
          "text": [
            "\r 61%|██████    | 39/64 [05:19<03:10,  7.64s/it]"
          ]
        },
        {
          "name": "stdout",
          "output_type": "stream",
          "text": [
            "| Epoch: 39/64 | Train: Loss 0.0001 Accuracy : 1.0000 | Val: Loss 0.0460 Accuracy : 0.9833\n",
            "\n"
          ]
        },
        {
          "name": "stderr",
          "output_type": "stream",
          "text": [
            "\r 62%|██████▎   | 40/64 [05:27<03:05,  7.72s/it]"
          ]
        },
        {
          "name": "stdout",
          "output_type": "stream",
          "text": [
            "| Epoch: 40/64 | Train: Loss 0.0001 Accuracy : 1.0000 | Val: Loss 0.0460 Accuracy : 0.9833\n",
            "\n"
          ]
        },
        {
          "name": "stderr",
          "output_type": "stream",
          "text": [
            "\r 64%|██████▍   | 41/64 [05:35<02:57,  7.74s/it]"
          ]
        },
        {
          "name": "stdout",
          "output_type": "stream",
          "text": [
            "| Epoch: 41/64 | Train: Loss 0.0001 Accuracy : 1.0000 | Val: Loss 0.0461 Accuracy : 0.9833\n",
            "\n"
          ]
        },
        {
          "name": "stderr",
          "output_type": "stream",
          "text": [
            "\r 66%|██████▌   | 42/64 [05:42<02:47,  7.62s/it]"
          ]
        },
        {
          "name": "stdout",
          "output_type": "stream",
          "text": [
            "| Epoch: 42/64 | Train: Loss 0.0001 Accuracy : 1.0000 | Val: Loss 0.0461 Accuracy : 0.9833\n",
            "\n"
          ]
        },
        {
          "name": "stderr",
          "output_type": "stream",
          "text": [
            "\r 67%|██████▋   | 43/64 [05:50<02:41,  7.71s/it]"
          ]
        },
        {
          "name": "stdout",
          "output_type": "stream",
          "text": [
            "| Epoch: 43/64 | Train: Loss 0.0000 Accuracy : 1.0000 | Val: Loss 0.0462 Accuracy : 0.9833\n",
            "\n"
          ]
        },
        {
          "name": "stderr",
          "output_type": "stream",
          "text": [
            "\r 69%|██████▉   | 44/64 [05:57<02:29,  7.49s/it]"
          ]
        },
        {
          "name": "stdout",
          "output_type": "stream",
          "text": [
            "| Epoch: 44/64 | Train: Loss 0.0000 Accuracy : 1.0000 | Val: Loss 0.0463 Accuracy : 0.9833\n",
            "\n"
          ]
        },
        {
          "name": "stderr",
          "output_type": "stream",
          "text": [
            "\r 70%|███████   | 45/64 [06:05<02:25,  7.65s/it]"
          ]
        },
        {
          "name": "stdout",
          "output_type": "stream",
          "text": [
            "| Epoch: 45/64 | Train: Loss 0.0000 Accuracy : 1.0000 | Val: Loss 0.0463 Accuracy : 0.9833\n",
            "\n"
          ]
        },
        {
          "name": "stderr",
          "output_type": "stream",
          "text": [
            "\r 72%|███████▏  | 46/64 [06:13<02:16,  7.58s/it]"
          ]
        },
        {
          "name": "stdout",
          "output_type": "stream",
          "text": [
            "| Epoch: 46/64 | Train: Loss 0.0000 Accuracy : 1.0000 | Val: Loss 0.0464 Accuracy : 0.9833\n",
            "\n"
          ]
        },
        {
          "name": "stderr",
          "output_type": "stream",
          "text": [
            "\r 73%|███████▎  | 47/64 [06:20<02:09,  7.61s/it]"
          ]
        },
        {
          "name": "stdout",
          "output_type": "stream",
          "text": [
            "| Epoch: 47/64 | Train: Loss 0.0000 Accuracy : 1.0000 | Val: Loss 0.0464 Accuracy : 0.9833\n",
            "\n"
          ]
        },
        {
          "name": "stderr",
          "output_type": "stream",
          "text": [
            "\r 75%|███████▌  | 48/64 [06:28<02:03,  7.71s/it]"
          ]
        },
        {
          "name": "stdout",
          "output_type": "stream",
          "text": [
            "| Epoch: 48/64 | Train: Loss 0.0000 Accuracy : 1.0000 | Val: Loss 0.0465 Accuracy : 0.9833\n",
            "\n"
          ]
        },
        {
          "name": "stderr",
          "output_type": "stream",
          "text": [
            "\r 77%|███████▋  | 49/64 [06:35<01:52,  7.50s/it]"
          ]
        },
        {
          "name": "stdout",
          "output_type": "stream",
          "text": [
            "| Epoch: 49/64 | Train: Loss 0.0000 Accuracy : 1.0000 | Val: Loss 0.0466 Accuracy : 0.9833\n",
            "\n"
          ]
        },
        {
          "name": "stderr",
          "output_type": "stream",
          "text": [
            "\r 78%|███████▊  | 50/64 [06:43<01:46,  7.64s/it]"
          ]
        },
        {
          "name": "stdout",
          "output_type": "stream",
          "text": [
            "| Epoch: 50/64 | Train: Loss 0.0000 Accuracy : 1.0000 | Val: Loss 0.0466 Accuracy : 0.9833\n",
            "\n"
          ]
        },
        {
          "name": "stderr",
          "output_type": "stream",
          "text": [
            "\r 80%|███████▉  | 51/64 [06:50<01:37,  7.49s/it]"
          ]
        },
        {
          "name": "stdout",
          "output_type": "stream",
          "text": [
            "| Epoch: 51/64 | Train: Loss 0.0000 Accuracy : 1.0000 | Val: Loss 0.0467 Accuracy : 0.9833\n",
            "\n"
          ]
        },
        {
          "name": "stderr",
          "output_type": "stream",
          "text": [
            "\r 81%|████████▏ | 52/64 [06:58<01:31,  7.58s/it]"
          ]
        },
        {
          "name": "stdout",
          "output_type": "stream",
          "text": [
            "| Epoch: 52/64 | Train: Loss 0.0000 Accuracy : 1.0000 | Val: Loss 0.0467 Accuracy : 0.9833\n",
            "\n"
          ]
        },
        {
          "name": "stderr",
          "output_type": "stream",
          "text": [
            "\r 83%|████████▎ | 53/64 [07:07<01:26,  7.86s/it]"
          ]
        },
        {
          "name": "stdout",
          "output_type": "stream",
          "text": [
            "| Epoch: 53/64 | Train: Loss 0.0000 Accuracy : 1.0000 | Val: Loss 0.0468 Accuracy : 0.9833\n",
            "\n"
          ]
        },
        {
          "name": "stderr",
          "output_type": "stream",
          "text": [
            "\r 84%|████████▍ | 54/64 [07:14<01:16,  7.62s/it]"
          ]
        },
        {
          "name": "stdout",
          "output_type": "stream",
          "text": [
            "| Epoch: 54/64 | Train: Loss 0.0000 Accuracy : 1.0000 | Val: Loss 0.0469 Accuracy : 0.9833\n",
            "\n"
          ]
        },
        {
          "name": "stderr",
          "output_type": "stream",
          "text": [
            "\r 86%|████████▌ | 55/64 [07:22<01:09,  7.71s/it]"
          ]
        },
        {
          "name": "stdout",
          "output_type": "stream",
          "text": [
            "| Epoch: 55/64 | Train: Loss 0.0000 Accuracy : 1.0000 | Val: Loss 0.0470 Accuracy : 0.9833\n",
            "\n"
          ]
        },
        {
          "name": "stderr",
          "output_type": "stream",
          "text": [
            "\r 88%|████████▊ | 56/64 [07:29<01:00,  7.51s/it]"
          ]
        },
        {
          "name": "stdout",
          "output_type": "stream",
          "text": [
            "| Epoch: 56/64 | Train: Loss 0.0000 Accuracy : 1.0000 | Val: Loss 0.0470 Accuracy : 0.9833\n",
            "\n"
          ]
        },
        {
          "name": "stderr",
          "output_type": "stream",
          "text": [
            "\r 89%|████████▉ | 57/64 [07:37<00:53,  7.65s/it]"
          ]
        },
        {
          "name": "stdout",
          "output_type": "stream",
          "text": [
            "| Epoch: 57/64 | Train: Loss 0.0000 Accuracy : 1.0000 | Val: Loss 0.0472 Accuracy : 0.9833\n",
            "\n"
          ]
        },
        {
          "name": "stderr",
          "output_type": "stream",
          "text": [
            "\r 91%|█████████ | 58/64 [07:45<00:46,  7.73s/it]"
          ]
        },
        {
          "name": "stdout",
          "output_type": "stream",
          "text": [
            "| Epoch: 58/64 | Train: Loss 0.0000 Accuracy : 1.0000 | Val: Loss 0.0472 Accuracy : 0.9833\n",
            "\n"
          ]
        },
        {
          "name": "stderr",
          "output_type": "stream",
          "text": [
            "\r 92%|█████████▏| 59/64 [07:52<00:37,  7.53s/it]"
          ]
        },
        {
          "name": "stdout",
          "output_type": "stream",
          "text": [
            "| Epoch: 59/64 | Train: Loss 0.0000 Accuracy : 1.0000 | Val: Loss 0.0473 Accuracy : 0.9833\n",
            "\n"
          ]
        },
        {
          "name": "stderr",
          "output_type": "stream",
          "text": [
            "\r 94%|█████████▍| 60/64 [08:00<00:30,  7.65s/it]"
          ]
        },
        {
          "name": "stdout",
          "output_type": "stream",
          "text": [
            "| Epoch: 60/64 | Train: Loss 0.0000 Accuracy : 1.0000 | Val: Loss 0.0474 Accuracy : 0.9833\n",
            "\n"
          ]
        },
        {
          "name": "stderr",
          "output_type": "stream",
          "text": [
            "\r 95%|█████████▌| 61/64 [08:07<00:22,  7.47s/it]"
          ]
        },
        {
          "name": "stdout",
          "output_type": "stream",
          "text": [
            "| Epoch: 61/64 | Train: Loss 0.0000 Accuracy : 1.0000 | Val: Loss 0.0475 Accuracy : 0.9833\n",
            "\n"
          ]
        },
        {
          "name": "stderr",
          "output_type": "stream",
          "text": [
            "\r 97%|█████████▋| 62/64 [08:15<00:15,  7.59s/it]"
          ]
        },
        {
          "name": "stdout",
          "output_type": "stream",
          "text": [
            "| Epoch: 62/64 | Train: Loss 0.0000 Accuracy : 1.0000 | Val: Loss 0.0476 Accuracy : 0.9833\n",
            "\n"
          ]
        },
        {
          "name": "stderr",
          "output_type": "stream",
          "text": [
            "\r 98%|█████████▊| 63/64 [08:22<00:07,  7.68s/it]"
          ]
        },
        {
          "name": "stdout",
          "output_type": "stream",
          "text": [
            "| Epoch: 63/64 | Train: Loss 0.0000 Accuracy : 1.0000 | Val: Loss 0.0478 Accuracy : 0.9833\n",
            "\n"
          ]
        },
        {
          "name": "stderr",
          "output_type": "stream",
          "text": [
            "100%|██████████| 64/64 [08:30<00:00,  7.97s/it]"
          ]
        },
        {
          "name": "stdout",
          "output_type": "stream",
          "text": [
            "| Epoch: 64/64 | Train: Loss 0.0000 Accuracy : 1.0000 | Val: Loss 0.0478 Accuracy : 0.9833\n",
            "\n"
          ]
        },
        {
          "name": "stderr",
          "output_type": "stream",
          "text": [
            "\n"
          ]
        },
        {
          "data": {
            "image/png": "[encoded data removed]",
            "text/plain": [
              "<Figure size 1200x500 with 2 Axes>"
            ]
          },
          "metadata": {},
          "output_type": "display_data"
        }
      ],
      "source": [
        "# train\n",
        "loss_train, loss_valid, acc_train, acc_valid = train_model(cnn, num_epochs, train_ld, val_ld, optimizer_name='Adam', early_stopping = False, learning_rate = 0.001, device=device)\n",
        "plot_accuracy_loss('CNN', loss_train, loss_valid, acc_train, acc_valid)"
      ]
    },
    {
      "cell_type": "code",
      "execution_count": 21,
      "metadata": {
        "colab": {
          "base_uri": "https://localhost:8080/"
        },
        "id": "SvmePUMWngFP",
        "outputId": "f91e15f4-1029-4308-c7e2-1d29e0a0bc28"
      },
      "outputs": [
        {
          "name": "stdout",
          "output_type": "stream",
          "text": [
            "Accuracy for CNN (data augmentation): 0.9366\n"
          ]
        }
      ],
      "source": [
        "# test\n",
        "print(\"Accuracy for CNN (data augmentation):\", test_model(cnn, test_ld))"
      ]
    },
    {
      "cell_type": "markdown",
      "metadata": {
        "id": "U5VdrJr0clUj"
      },
      "source": [
        "# Self-training/Pseudo-labelling"
      ]
    },
    {
      "cell_type": "code",
      "execution_count": 22,
      "metadata": {
        "colab": {
          "base_uri": "https://localhost:8080/"
        },
        "id": "7axjmmgDclUj",
        "outputId": "4b7626bb-4485-443c-9936-cf8b34932e87"
      },
      "outputs": [
        {
          "data": {
            "text/plain": [
              "59900"
            ]
          },
          "execution_count": 22,
          "metadata": {},
          "output_type": "execute_result"
        }
      ],
      "source": [
        "len(ds_unlabeled)"
      ]
    },
    {
      "cell_type": "markdown",
      "metadata": {
        "id": "VL2XlbOTclUj"
      },
      "source": [
        "We use the trained CNN\n",
        " the 100 labeled and augmented data:"
      ]
    },
    {
      "cell_type": "code",
      "execution_count": 51,
      "metadata": {
        "id": "KfCPsR1SclUj"
      },
      "outputs": [],
      "source": [
        "import torch\n",
        "from torch.utils.data import DataLoader, Subset\n",
        "from sklearn.model_selection import train_test_split\n",
        "\n",
        "def generate_pseudo_labels(model, dataloader, threshold=0.99, dataset_indices=None):\n",
        "    model.eval()\n",
        "    pseudo_imgs = []\n",
        "    pseudo_labels = []\n",
        "    pseudo_indices = []\n",
        "    softmax = torch.nn.Softmax(dim=1)\n",
        "\n",
        "    with torch.no_grad():\n",
        "        for batch_idx, (img, _) in enumerate(dataloader):\n",
        "            batch_start = batch_idx * dataloader.batch_size\n",
        "            img = img.to(device)\n",
        "            outputs = model(img)\n",
        "            probs = softmax(outputs)\n",
        "            max_probs, preds = torch.max(probs, dim=1)\n",
        "            mask = max_probs > threshold\n",
        "\n",
        "            selected_imgs = img[mask].cpu()\n",
        "            selected_preds = preds[mask].cpu()\n",
        "\n",
        "            pseudo_imgs.extend(selected_imgs)\n",
        "            pseudo_labels.extend(selected_preds)\n",
        "\n",
        "            # Get original dataset indices if provided\n",
        "            if dataset_indices is not None:\n",
        "                batch_indices = dataset_indices[batch_start:batch_start + len(img)]\n",
        "                selected_indices = [batch_indices[i] for i in range(len(mask)) if mask[i]]\n",
        "                pseudo_indices.extend(selected_indices)\n",
        "\n",
        "    print(f\"Pseudo-labeled: {len(pseudo_labels)} samples with confidence > {threshold}\")\n",
        "    return TensorDataset(torch.stack(pseudo_imgs), torch.tensor(pseudo_labels)), pseudo_indices"
      ]
    },
    {
      "cell_type": "code",
      "execution_count": 55,
      "metadata": {
        "colab": {
          "base_uri": "https://localhost:8080/"
        },
        "id": "EbTi8Xw3clUk",
        "outputId": "e67a66a9-0d12-40ba-8a35-185dc1ad8beb"
      },
      "outputs": [
        {
          "name": "stdout",
          "output_type": "stream",
          "text": [
            "Pseudo-labeled: 44161 samples with confidence > 0.99\n"
          ]
        }
      ],
      "source": [
        "unlabeled_indices = list(range(len(ds_unlabeled)))\n",
        "unlabeled_loader = torch.utils.data.DataLoader(ds_unlabeled, batch_size=128, shuffle=False)\n",
        "pseudo_labeled_dataset, all_pseudo_indices = generate_pseudo_labels(cnn, unlabeled_loader, threshold=0.99, dataset_indices=unlabeled_indices) # set threshold to get high confidence pseudo"
      ]
    },
    {
      "cell_type": "code",
      "execution_count": 57,
      "metadata": {
        "colab": {
          "base_uri": "https://localhost:8080/"
        },
        "id": "9MrtmCOqKqEY",
        "outputId": "a2cf2742-74be-48f8-95aa-88cb94fe49a4"
      },
      "outputs": [
        {
          "data": {
            "text/plain": [
              "44161"
            ]
          },
          "execution_count": 57,
          "metadata": {},
          "output_type": "execute_result"
        }
      ],
      "source": [
        "len(all_pseudo_indices) # confirm if index was stored correctly"
      ]
    },
    {
      "cell_type": "code",
      "execution_count": 45,
      "metadata": {
        "colab": {
          "base_uri": "https://localhost:8080/"
        },
        "id": "Wy3Hvp3pclUk",
        "outputId": "293ee293-2c00-4d15-cf97-ba9c0b356076"
      },
      "outputs": [
        {
          "data": {
            "text/plain": [
              "49261"
            ]
          },
          "execution_count": 45,
          "metadata": {},
          "output_type": "execute_result"
        }
      ],
      "source": [
        "combined_dataset = torch.utils.data.ConcatDataset([data_aug, pseudo_labeled_dataset])\n",
        "len(combined_dataset) # data-aug + high confidence label"
      ]
    },
    {
      "cell_type": "code",
      "execution_count": 28,
      "metadata": {
        "id": "F1vGiXLKclUk"
      },
      "outputs": [],
      "source": [
        "# You may re-split again if needed\n",
        "labels_combined = [label for _, label in combined_dataset]\n",
        "train_idx, val_idx = train_test_split(list(range(len(labels_combined))),\n",
        "                                      test_size=0.2,\n",
        "                                      stratify=labels_combined,\n",
        "                                      random_state=42)\n",
        "\n",
        "train_set_combined = torch.utils.data.Subset(combined_dataset, train_idx)\n",
        "val_set_combined = torch.utils.data.Subset(combined_dataset, val_idx)\n",
        "\n",
        "test_ld, val_ld, test_ld = load_data(train_set_combined, val_set_combined, original_test_ds, 32, 32, 64)\n",
        "\n",
        "num_epochs = 32"
      ]
    },
    {
      "cell_type": "code",
      "execution_count": 29,
      "metadata": {
        "id": "MCf-Kne2foZX"
      },
      "outputs": [],
      "source": [
        "cnn_pseudo = CNN().to(device)"
      ]
    },
    {
      "cell_type": "code",
      "execution_count": 30,
      "metadata": {
        "colab": {
          "base_uri": "https://localhost:8080/",
          "height": 1000
        },
        "id": "YRkKu-UlclUk",
        "outputId": "ab61ca3f-476b-4abe-9526-b56575cccaf5"
      },
      "outputs": [
        {
          "name": "stderr",
          "output_type": "stream",
          "text": [
            "  2%|▏         | 1/64 [00:13<14:34, 13.87s/it]"
          ]
        },
        {
          "name": "stdout",
          "output_type": "stream",
          "text": [
            "| Epoch: 1/64 | Train: Loss 0.7693 Accuracy : 0.8455 | Val: Loss 0.8946 Accuracy : 0.8953\n",
            "\n"
          ]
        },
        {
          "name": "stderr",
          "output_type": "stream",
          "text": [
            "\r  3%|▎         | 2/64 [00:27<14:00, 13.55s/it]"
          ]
        },
        {
          "name": "stdout",
          "output_type": "stream",
          "text": [
            "| Epoch: 2/64 | Train: Loss 0.1804 Accuracy : 0.9651 | Val: Loss 0.5685 Accuracy : 0.9177\n",
            "\n"
          ]
        },
        {
          "name": "stderr",
          "output_type": "stream",
          "text": [
            "\r  5%|▍         | 3/64 [00:41<14:09, 13.93s/it]"
          ]
        },
        {
          "name": "stdout",
          "output_type": "stream",
          "text": [
            "| Epoch: 3/64 | Train: Loss 0.0649 Accuracy : 0.9919 | Val: Loss 0.3124 Accuracy : 0.9552\n",
            "\n"
          ]
        },
        {
          "name": "stderr",
          "output_type": "stream",
          "text": [
            "\r  6%|▋         | 4/64 [00:55<13:46, 13.77s/it]"
          ]
        },
        {
          "name": "stdout",
          "output_type": "stream",
          "text": [
            "| Epoch: 4/64 | Train: Loss 0.0314 Accuracy : 0.9963 | Val: Loss 0.2782 Accuracy : 0.9428\n",
            "\n"
          ]
        },
        {
          "name": "stderr",
          "output_type": "stream",
          "text": [
            "\r  8%|▊         | 5/64 [01:08<13:26, 13.66s/it]"
          ]
        },
        {
          "name": "stdout",
          "output_type": "stream",
          "text": [
            "| Epoch: 5/64 | Train: Loss 0.0135 Accuracy : 0.9990 | Val: Loss 0.1155 Accuracy : 0.9894\n",
            "\n"
          ]
        },
        {
          "name": "stderr",
          "output_type": "stream",
          "text": [
            "\r  9%|▉         | 6/64 [01:21<13:07, 13.57s/it]"
          ]
        },
        {
          "name": "stdout",
          "output_type": "stream",
          "text": [
            "| Epoch: 6/64 | Train: Loss 0.0053 Accuracy : 1.0000 | Val: Loss 0.0748 Accuracy : 0.9926\n",
            "\n"
          ]
        },
        {
          "name": "stderr",
          "output_type": "stream",
          "text": [
            "\r 11%|█         | 7/64 [01:35<12:54, 13.60s/it]"
          ]
        },
        {
          "name": "stdout",
          "output_type": "stream",
          "text": [
            "| Epoch: 7/64 | Train: Loss 0.0034 Accuracy : 1.0000 | Val: Loss 0.0479 Accuracy : 0.9990\n",
            "\n"
          ]
        },
        {
          "name": "stderr",
          "output_type": "stream",
          "text": [
            "\r 12%|█▎        | 8/64 [01:49<12:37, 13.53s/it]"
          ]
        },
        {
          "name": "stdout",
          "output_type": "stream",
          "text": [
            "| Epoch: 8/64 | Train: Loss 0.0025 Accuracy : 1.0000 | Val: Loss 0.0375 Accuracy : 0.9992\n",
            "\n"
          ]
        },
        {
          "name": "stderr",
          "output_type": "stream",
          "text": [
            "\r 14%|█▍        | 9/64 [02:02<12:21, 13.49s/it]"
          ]
        },
        {
          "name": "stdout",
          "output_type": "stream",
          "text": [
            "| Epoch: 9/64 | Train: Loss 0.0020 Accuracy : 1.0000 | Val: Loss 0.0325 Accuracy : 0.9992\n",
            "\n"
          ]
        },
        {
          "name": "stderr",
          "output_type": "stream",
          "text": [
            "\r 16%|█▌        | 10/64 [02:15<12:07, 13.47s/it]"
          ]
        },
        {
          "name": "stdout",
          "output_type": "stream",
          "text": [
            "| Epoch: 10/64 | Train: Loss 0.0016 Accuracy : 1.0000 | Val: Loss 0.0292 Accuracy : 0.9992\n",
            "\n"
          ]
        },
        {
          "name": "stderr",
          "output_type": "stream",
          "text": [
            "\r 17%|█▋        | 11/64 [02:29<11:53, 13.46s/it]"
          ]
        },
        {
          "name": "stdout",
          "output_type": "stream",
          "text": [
            "| Epoch: 11/64 | Train: Loss 0.0013 Accuracy : 1.0000 | Val: Loss 0.0265 Accuracy : 0.9992\n",
            "\n"
          ]
        },
        {
          "name": "stderr",
          "output_type": "stream",
          "text": [
            "\r 19%|█▉        | 12/64 [02:47<12:51, 14.85s/it]"
          ]
        },
        {
          "name": "stdout",
          "output_type": "stream",
          "text": [
            "| Epoch: 12/64 | Train: Loss 0.0011 Accuracy : 1.0000 | Val: Loss 0.0243 Accuracy : 0.9992\n",
            "\n"
          ]
        },
        {
          "name": "stderr",
          "output_type": "stream",
          "text": [
            "\r 20%|██        | 13/64 [03:01<12:19, 14.51s/it]"
          ]
        },
        {
          "name": "stdout",
          "output_type": "stream",
          "text": [
            "| Epoch: 13/64 | Train: Loss 0.0010 Accuracy : 1.0000 | Val: Loss 0.0225 Accuracy : 0.9992\n",
            "\n"
          ]
        },
        {
          "name": "stderr",
          "output_type": "stream",
          "text": [
            "\r 22%|██▏       | 14/64 [03:15<11:57, 14.36s/it]"
          ]
        },
        {
          "name": "stdout",
          "output_type": "stream",
          "text": [
            "| Epoch: 14/64 | Train: Loss 0.0008 Accuracy : 1.0000 | Val: Loss 0.0209 Accuracy : 0.9993\n",
            "\n"
          ]
        },
        {
          "name": "stderr",
          "output_type": "stream",
          "text": [
            "\r 23%|██▎       | 15/64 [03:31<12:12, 14.96s/it]"
          ]
        },
        {
          "name": "stdout",
          "output_type": "stream",
          "text": [
            "| Epoch: 15/64 | Train: Loss 0.0007 Accuracy : 1.0000 | Val: Loss 0.0196 Accuracy : 0.9994\n",
            "\n"
          ]
        },
        {
          "name": "stderr",
          "output_type": "stream",
          "text": [
            "\r 25%|██▌       | 16/64 [03:44<11:35, 14.49s/it]"
          ]
        },
        {
          "name": "stdout",
          "output_type": "stream",
          "text": [
            "| Epoch: 16/64 | Train: Loss 0.0006 Accuracy : 1.0000 | Val: Loss 0.0184 Accuracy : 0.9994\n",
            "\n"
          ]
        },
        {
          "name": "stderr",
          "output_type": "stream",
          "text": [
            "\r 27%|██▋       | 17/64 [03:58<11:06, 14.19s/it]"
          ]
        },
        {
          "name": "stdout",
          "output_type": "stream",
          "text": [
            "| Epoch: 17/64 | Train: Loss 0.0006 Accuracy : 1.0000 | Val: Loss 0.0174 Accuracy : 0.9995\n",
            "\n"
          ]
        },
        {
          "name": "stderr",
          "output_type": "stream",
          "text": [
            "\r 28%|██▊       | 18/64 [04:11<10:40, 13.93s/it]"
          ]
        },
        {
          "name": "stdout",
          "output_type": "stream",
          "text": [
            "| Epoch: 18/64 | Train: Loss 0.0005 Accuracy : 1.0000 | Val: Loss 0.0165 Accuracy : 0.9995\n",
            "\n"
          ]
        },
        {
          "name": "stderr",
          "output_type": "stream",
          "text": [
            "\r 30%|██▉       | 19/64 [04:24<10:17, 13.71s/it]"
          ]
        },
        {
          "name": "stdout",
          "output_type": "stream",
          "text": [
            "| Epoch: 19/64 | Train: Loss 0.0004 Accuracy : 1.0000 | Val: Loss 0.0157 Accuracy : 0.9995\n",
            "\n"
          ]
        },
        {
          "name": "stderr",
          "output_type": "stream",
          "text": [
            "\r 31%|███▏      | 20/64 [04:38<09:59, 13.63s/it]"
          ]
        },
        {
          "name": "stdout",
          "output_type": "stream",
          "text": [
            "| Epoch: 20/64 | Train: Loss 0.0004 Accuracy : 1.0000 | Val: Loss 0.0149 Accuracy : 0.9995\n",
            "\n"
          ]
        },
        {
          "name": "stderr",
          "output_type": "stream",
          "text": [
            "\r 33%|███▎      | 21/64 [04:51<09:43, 13.58s/it]"
          ]
        },
        {
          "name": "stdout",
          "output_type": "stream",
          "text": [
            "| Epoch: 21/64 | Train: Loss 0.0003 Accuracy : 1.0000 | Val: Loss 0.0143 Accuracy : 0.9995\n",
            "\n"
          ]
        },
        {
          "name": "stderr",
          "output_type": "stream",
          "text": [
            "\r 34%|███▍      | 22/64 [05:05<09:28, 13.53s/it]"
          ]
        },
        {
          "name": "stdout",
          "output_type": "stream",
          "text": [
            "| Epoch: 22/64 | Train: Loss 0.0003 Accuracy : 1.0000 | Val: Loss 0.0136 Accuracy : 0.9995\n",
            "\n"
          ]
        },
        {
          "name": "stderr",
          "output_type": "stream",
          "text": [
            "\r 36%|███▌      | 23/64 [05:18<09:14, 13.52s/it]"
          ]
        },
        {
          "name": "stdout",
          "output_type": "stream",
          "text": [
            "| Epoch: 23/64 | Train: Loss 0.0003 Accuracy : 1.0000 | Val: Loss 0.0130 Accuracy : 0.9995\n",
            "\n"
          ]
        },
        {
          "name": "stderr",
          "output_type": "stream",
          "text": [
            "\r 38%|███▊      | 24/64 [05:33<09:13, 13.84s/it]"
          ]
        },
        {
          "name": "stdout",
          "output_type": "stream",
          "text": [
            "| Epoch: 24/64 | Train: Loss 0.0003 Accuracy : 1.0000 | Val: Loss 0.0125 Accuracy : 0.9995\n",
            "\n"
          ]
        },
        {
          "name": "stderr",
          "output_type": "stream",
          "text": [
            "\r 39%|███▉      | 25/64 [05:46<08:55, 13.74s/it]"
          ]
        },
        {
          "name": "stdout",
          "output_type": "stream",
          "text": [
            "| Epoch: 25/64 | Train: Loss 0.0002 Accuracy : 1.0000 | Val: Loss 0.0121 Accuracy : 0.9995\n",
            "\n"
          ]
        },
        {
          "name": "stderr",
          "output_type": "stream",
          "text": [
            "\r 41%|████      | 26/64 [06:00<08:43, 13.77s/it]"
          ]
        },
        {
          "name": "stdout",
          "output_type": "stream",
          "text": [
            "| Epoch: 26/64 | Train: Loss 0.0002 Accuracy : 1.0000 | Val: Loss 0.0116 Accuracy : 0.9994\n",
            "\n"
          ]
        },
        {
          "name": "stderr",
          "output_type": "stream",
          "text": [
            "\r 42%|████▏     | 27/64 [06:14<08:27, 13.70s/it]"
          ]
        },
        {
          "name": "stdout",
          "output_type": "stream",
          "text": [
            "| Epoch: 27/64 | Train: Loss 0.0002 Accuracy : 1.0000 | Val: Loss 0.0112 Accuracy : 0.9994\n",
            "\n"
          ]
        },
        {
          "name": "stderr",
          "output_type": "stream",
          "text": [
            "\r 44%|████▍     | 28/64 [06:27<08:10, 13.64s/it]"
          ]
        },
        {
          "name": "stdout",
          "output_type": "stream",
          "text": [
            "| Epoch: 28/64 | Train: Loss 0.0002 Accuracy : 1.0000 | Val: Loss 0.0108 Accuracy : 0.9994\n",
            "\n"
          ]
        },
        {
          "name": "stderr",
          "output_type": "stream",
          "text": [
            "\r 45%|████▌     | 29/64 [06:40<07:54, 13.57s/it]"
          ]
        },
        {
          "name": "stdout",
          "output_type": "stream",
          "text": [
            "| Epoch: 29/64 | Train: Loss 0.0002 Accuracy : 1.0000 | Val: Loss 0.0105 Accuracy : 0.9994\n",
            "\n"
          ]
        },
        {
          "name": "stderr",
          "output_type": "stream",
          "text": [
            "\r 47%|████▋     | 30/64 [06:54<07:40, 13.55s/it]"
          ]
        },
        {
          "name": "stdout",
          "output_type": "stream",
          "text": [
            "| Epoch: 30/64 | Train: Loss 0.0001 Accuracy : 1.0000 | Val: Loss 0.0102 Accuracy : 0.9994\n",
            "\n"
          ]
        },
        {
          "name": "stderr",
          "output_type": "stream",
          "text": [
            "\r 48%|████▊     | 31/64 [07:07<07:24, 13.48s/it]"
          ]
        },
        {
          "name": "stdout",
          "output_type": "stream",
          "text": [
            "| Epoch: 31/64 | Train: Loss 0.0001 Accuracy : 1.0000 | Val: Loss 0.0098 Accuracy : 0.9994\n",
            "\n"
          ]
        },
        {
          "name": "stderr",
          "output_type": "stream",
          "text": [
            "\r 50%|█████     | 32/64 [07:21<07:09, 13.42s/it]"
          ]
        },
        {
          "name": "stdout",
          "output_type": "stream",
          "text": [
            "| Epoch: 32/64 | Train: Loss 0.0001 Accuracy : 1.0000 | Val: Loss 0.0095 Accuracy : 0.9994\n",
            "\n"
          ]
        },
        {
          "name": "stderr",
          "output_type": "stream",
          "text": [
            "\r 52%|█████▏    | 33/64 [07:34<06:57, 13.47s/it]"
          ]
        },
        {
          "name": "stdout",
          "output_type": "stream",
          "text": [
            "| Epoch: 33/64 | Train: Loss 0.0001 Accuracy : 1.0000 | Val: Loss 0.0092 Accuracy : 0.9995\n",
            "\n"
          ]
        },
        {
          "name": "stderr",
          "output_type": "stream",
          "text": [
            "\r 53%|█████▎    | 34/64 [07:49<06:55, 13.85s/it]"
          ]
        },
        {
          "name": "stdout",
          "output_type": "stream",
          "text": [
            "| Epoch: 34/64 | Train: Loss 0.0001 Accuracy : 1.0000 | Val: Loss 0.0090 Accuracy : 0.9995\n",
            "\n"
          ]
        },
        {
          "name": "stderr",
          "output_type": "stream",
          "text": [
            "\r 55%|█████▍    | 35/64 [08:03<06:41, 13.85s/it]"
          ]
        },
        {
          "name": "stdout",
          "output_type": "stream",
          "text": [
            "| Epoch: 35/64 | Train: Loss 0.0001 Accuracy : 1.0000 | Val: Loss 0.0087 Accuracy : 0.9995\n",
            "\n"
          ]
        },
        {
          "name": "stderr",
          "output_type": "stream",
          "text": [
            "\r 56%|█████▋    | 36/64 [08:16<06:26, 13.82s/it]"
          ]
        },
        {
          "name": "stdout",
          "output_type": "stream",
          "text": [
            "| Epoch: 36/64 | Train: Loss 0.0001 Accuracy : 1.0000 | Val: Loss 0.0085 Accuracy : 0.9995\n",
            "\n"
          ]
        },
        {
          "name": "stderr",
          "output_type": "stream",
          "text": [
            "\r 58%|█████▊    | 37/64 [08:30<06:12, 13.78s/it]"
          ]
        },
        {
          "name": "stdout",
          "output_type": "stream",
          "text": [
            "| Epoch: 37/64 | Train: Loss 0.0001 Accuracy : 1.0000 | Val: Loss 0.0082 Accuracy : 0.9995\n",
            "\n"
          ]
        },
        {
          "name": "stderr",
          "output_type": "stream",
          "text": [
            "\r 59%|█████▉    | 38/64 [08:44<05:57, 13.73s/it]"
          ]
        },
        {
          "name": "stdout",
          "output_type": "stream",
          "text": [
            "| Epoch: 38/64 | Train: Loss 0.0001 Accuracy : 1.0000 | Val: Loss 0.0080 Accuracy : 0.9995\n",
            "\n"
          ]
        },
        {
          "name": "stderr",
          "output_type": "stream",
          "text": [
            "\r 61%|██████    | 39/64 [08:57<05:41, 13.67s/it]"
          ]
        },
        {
          "name": "stdout",
          "output_type": "stream",
          "text": [
            "| Epoch: 39/64 | Train: Loss 0.0001 Accuracy : 1.0000 | Val: Loss 0.0078 Accuracy : 0.9996\n",
            "\n"
          ]
        },
        {
          "name": "stderr",
          "output_type": "stream",
          "text": [
            "\r 62%|██████▎   | 40/64 [09:11<05:30, 13.78s/it]"
          ]
        },
        {
          "name": "stdout",
          "output_type": "stream",
          "text": [
            "| Epoch: 40/64 | Train: Loss 0.0001 Accuracy : 1.0000 | Val: Loss 0.0076 Accuracy : 0.9996\n",
            "\n"
          ]
        },
        {
          "name": "stderr",
          "output_type": "stream",
          "text": [
            "\r 64%|██████▍   | 41/64 [09:25<05:17, 13.81s/it]"
          ]
        },
        {
          "name": "stdout",
          "output_type": "stream",
          "text": [
            "| Epoch: 41/64 | Train: Loss 0.0001 Accuracy : 1.0000 | Val: Loss 0.0075 Accuracy : 0.9996\n",
            "\n"
          ]
        },
        {
          "name": "stderr",
          "output_type": "stream",
          "text": [
            "\r 66%|██████▌   | 42/64 [09:39<05:03, 13.82s/it]"
          ]
        },
        {
          "name": "stdout",
          "output_type": "stream",
          "text": [
            "| Epoch: 42/64 | Train: Loss 0.0001 Accuracy : 1.0000 | Val: Loss 0.0073 Accuracy : 0.9996\n",
            "\n"
          ]
        },
        {
          "name": "stderr",
          "output_type": "stream",
          "text": [
            "\r 67%|██████▋   | 43/64 [09:53<04:49, 13.79s/it]"
          ]
        },
        {
          "name": "stdout",
          "output_type": "stream",
          "text": [
            "| Epoch: 43/64 | Train: Loss 0.0000 Accuracy : 1.0000 | Val: Loss 0.0071 Accuracy : 0.9996\n",
            "\n"
          ]
        },
        {
          "name": "stderr",
          "output_type": "stream",
          "text": [
            "\r 69%|██████▉   | 44/64 [10:06<04:33, 13.66s/it]"
          ]
        },
        {
          "name": "stdout",
          "output_type": "stream",
          "text": [
            "| Epoch: 44/64 | Train: Loss 0.0000 Accuracy : 1.0000 | Val: Loss 0.0070 Accuracy : 0.9996\n",
            "\n"
          ]
        },
        {
          "name": "stderr",
          "output_type": "stream",
          "text": [
            "\r 70%|███████   | 45/64 [10:21<04:24, 13.91s/it]"
          ]
        },
        {
          "name": "stdout",
          "output_type": "stream",
          "text": [
            "| Epoch: 45/64 | Train: Loss 0.0000 Accuracy : 1.0000 | Val: Loss 0.0068 Accuracy : 0.9996\n",
            "\n"
          ]
        },
        {
          "name": "stderr",
          "output_type": "stream",
          "text": [
            "\r 72%|███████▏  | 46/64 [10:34<04:07, 13.76s/it]"
          ]
        },
        {
          "name": "stdout",
          "output_type": "stream",
          "text": [
            "| Epoch: 46/64 | Train: Loss 0.0000 Accuracy : 1.0000 | Val: Loss 0.0066 Accuracy : 0.9996\n",
            "\n"
          ]
        },
        {
          "name": "stderr",
          "output_type": "stream",
          "text": [
            "\r 73%|███████▎  | 47/64 [10:48<03:52, 13.67s/it]"
          ]
        },
        {
          "name": "stdout",
          "output_type": "stream",
          "text": [
            "| Epoch: 47/64 | Train: Loss 0.0000 Accuracy : 1.0000 | Val: Loss 0.0065 Accuracy : 0.9996\n",
            "\n"
          ]
        },
        {
          "name": "stderr",
          "output_type": "stream",
          "text": [
            "\r 75%|███████▌  | 48/64 [11:01<03:38, 13.64s/it]"
          ]
        },
        {
          "name": "stdout",
          "output_type": "stream",
          "text": [
            "| Epoch: 48/64 | Train: Loss 0.0000 Accuracy : 1.0000 | Val: Loss 0.0064 Accuracy : 0.9996\n",
            "\n"
          ]
        },
        {
          "name": "stderr",
          "output_type": "stream",
          "text": [
            "\r 77%|███████▋  | 49/64 [11:14<03:23, 13.55s/it]"
          ]
        },
        {
          "name": "stdout",
          "output_type": "stream",
          "text": [
            "| Epoch: 49/64 | Train: Loss 0.0000 Accuracy : 1.0000 | Val: Loss 0.0062 Accuracy : 0.9996\n",
            "\n"
          ]
        },
        {
          "name": "stderr",
          "output_type": "stream",
          "text": [
            "\r 78%|███████▊  | 50/64 [11:28<03:10, 13.62s/it]"
          ]
        },
        {
          "name": "stdout",
          "output_type": "stream",
          "text": [
            "| Epoch: 50/64 | Train: Loss 0.0000 Accuracy : 1.0000 | Val: Loss 0.0061 Accuracy : 0.9996\n",
            "\n"
          ]
        },
        {
          "name": "stderr",
          "output_type": "stream",
          "text": [
            "\r 80%|███████▉  | 51/64 [11:42<02:56, 13.59s/it]"
          ]
        },
        {
          "name": "stdout",
          "output_type": "stream",
          "text": [
            "| Epoch: 51/64 | Train: Loss 0.0000 Accuracy : 1.0000 | Val: Loss 0.0060 Accuracy : 0.9996\n",
            "\n"
          ]
        },
        {
          "name": "stderr",
          "output_type": "stream",
          "text": [
            "\r 81%|████████▏ | 52/64 [11:55<02:42, 13.55s/it]"
          ]
        },
        {
          "name": "stdout",
          "output_type": "stream",
          "text": [
            "| Epoch: 52/64 | Train: Loss 0.0000 Accuracy : 1.0000 | Val: Loss 0.0059 Accuracy : 0.9996\n",
            "\n"
          ]
        },
        {
          "name": "stderr",
          "output_type": "stream",
          "text": [
            "\r 83%|████████▎ | 53/64 [12:09<02:28, 13.54s/it]"
          ]
        },
        {
          "name": "stdout",
          "output_type": "stream",
          "text": [
            "| Epoch: 53/64 | Train: Loss 0.0000 Accuracy : 1.0000 | Val: Loss 0.0058 Accuracy : 0.9996\n",
            "\n"
          ]
        },
        {
          "name": "stderr",
          "output_type": "stream",
          "text": [
            "\r 84%|████████▍ | 54/64 [12:22<02:15, 13.51s/it]"
          ]
        },
        {
          "name": "stdout",
          "output_type": "stream",
          "text": [
            "| Epoch: 54/64 | Train: Loss 0.0000 Accuracy : 1.0000 | Val: Loss 0.0057 Accuracy : 0.9996\n",
            "\n"
          ]
        },
        {
          "name": "stderr",
          "output_type": "stream",
          "text": [
            "\r 86%|████████▌ | 55/64 [12:36<02:01, 13.53s/it]"
          ]
        },
        {
          "name": "stdout",
          "output_type": "stream",
          "text": [
            "| Epoch: 55/64 | Train: Loss 0.0000 Accuracy : 1.0000 | Val: Loss 0.0056 Accuracy : 0.9996\n",
            "\n"
          ]
        },
        {
          "name": "stderr",
          "output_type": "stream",
          "text": [
            "\r 88%|████████▊ | 56/64 [12:49<01:48, 13.51s/it]"
          ]
        },
        {
          "name": "stdout",
          "output_type": "stream",
          "text": [
            "| Epoch: 56/64 | Train: Loss 0.0000 Accuracy : 1.0000 | Val: Loss 0.0055 Accuracy : 0.9996\n",
            "\n"
          ]
        },
        {
          "name": "stderr",
          "output_type": "stream",
          "text": [
            "\r 89%|████████▉ | 57/64 [13:03<01:35, 13.68s/it]"
          ]
        },
        {
          "name": "stdout",
          "output_type": "stream",
          "text": [
            "| Epoch: 57/64 | Train: Loss 0.0000 Accuracy : 1.0000 | Val: Loss 0.0054 Accuracy : 0.9996\n",
            "\n"
          ]
        },
        {
          "name": "stderr",
          "output_type": "stream",
          "text": [
            "\r 91%|█████████ | 58/64 [13:18<01:23, 13.85s/it]"
          ]
        },
        {
          "name": "stdout",
          "output_type": "stream",
          "text": [
            "| Epoch: 58/64 | Train: Loss 0.0000 Accuracy : 1.0000 | Val: Loss 0.0053 Accuracy : 0.9996\n",
            "\n"
          ]
        },
        {
          "name": "stderr",
          "output_type": "stream",
          "text": [
            "\r 92%|█████████▏| 59/64 [13:32<01:09, 13.90s/it]"
          ]
        },
        {
          "name": "stdout",
          "output_type": "stream",
          "text": [
            "| Epoch: 59/64 | Train: Loss 0.0000 Accuracy : 1.0000 | Val: Loss 0.0052 Accuracy : 0.9996\n",
            "\n"
          ]
        },
        {
          "name": "stderr",
          "output_type": "stream",
          "text": [
            "\r 94%|█████████▍| 60/64 [13:45<00:55, 13.76s/it]"
          ]
        },
        {
          "name": "stdout",
          "output_type": "stream",
          "text": [
            "| Epoch: 60/64 | Train: Loss 0.0000 Accuracy : 1.0000 | Val: Loss 0.0051 Accuracy : 0.9996\n",
            "\n"
          ]
        },
        {
          "name": "stderr",
          "output_type": "stream",
          "text": [
            "\r 95%|█████████▌| 61/64 [13:58<00:40, 13.61s/it]"
          ]
        },
        {
          "name": "stdout",
          "output_type": "stream",
          "text": [
            "| Epoch: 61/64 | Train: Loss 0.0000 Accuracy : 1.0000 | Val: Loss 0.0050 Accuracy : 0.9996\n",
            "\n"
          ]
        },
        {
          "name": "stderr",
          "output_type": "stream",
          "text": [
            "\r 97%|█████████▋| 62/64 [14:12<00:27, 13.51s/it]"
          ]
        },
        {
          "name": "stdout",
          "output_type": "stream",
          "text": [
            "| Epoch: 62/64 | Train: Loss 0.0000 Accuracy : 1.0000 | Val: Loss 0.0049 Accuracy : 0.9996\n",
            "\n"
          ]
        },
        {
          "name": "stderr",
          "output_type": "stream",
          "text": [
            "\r 98%|█████████▊| 63/64 [14:25<00:13, 13.47s/it]"
          ]
        },
        {
          "name": "stdout",
          "output_type": "stream",
          "text": [
            "| Epoch: 63/64 | Train: Loss 0.0000 Accuracy : 1.0000 | Val: Loss 0.0049 Accuracy : 0.9996\n",
            "\n"
          ]
        },
        {
          "name": "stderr",
          "output_type": "stream",
          "text": [
            "100%|██████████| 64/64 [14:38<00:00, 13.73s/it]"
          ]
        },
        {
          "name": "stdout",
          "output_type": "stream",
          "text": [
            "| Epoch: 64/64 | Train: Loss 0.0000 Accuracy : 1.0000 | Val: Loss 0.0048 Accuracy : 0.9996\n",
            "\n"
          ]
        },
        {
          "name": "stderr",
          "output_type": "stream",
          "text": [
            "\n"
          ]
        },
        {
          "data": {
            "image/png": "[encoded data removed]",
            "text/plain": [
              "<Figure size 1200x500 with 2 Axes>"
            ]
          },
          "metadata": {},
          "output_type": "display_data"
        }
      ],
      "source": [
        "loss_train, loss_valid, acc_train, acc_valid = train_model(cnn_pseudo, num_epochs, train_ld, val_ld, optimizer_name='Adam', early_stopping = False, learning_rate = 0.001, device=device)\n",
        "plot_accuracy_loss('CNN', loss_train, loss_valid, acc_train, acc_valid)"
      ]
    },
    {
      "cell_type": "code",
      "execution_count": 31,
      "metadata": {
        "colab": {
          "base_uri": "https://localhost:8080/"
        },
        "id": "E-nwOQYOclUk",
        "outputId": "e16e6efa-e837-4c45-ba73-3e7deb0cb78b"
      },
      "outputs": [
        {
          "name": "stdout",
          "output_type": "stream",
          "text": [
            "Accuracy for CNN (data augmentation + pseudo-labeling): 0.9412\n"
          ]
        }
      ],
      "source": [
        "# test\n",
        "print(\"Accuracy for CNN (data augmentation + pseudo-labeling):\", test_model(cnn_pseudo, test_ld))"
      ]
    },
    {
      "cell_type": "markdown",
      "metadata": {
        "id": "2E5aHolnj6Eq"
      },
      "source": [
        "Pseudo-labelling slightly improved from plain data augmentation"
      ]
    },
    {
      "cell_type": "markdown",
      "metadata": {
        "id": "D9YH25Xsh0LX"
      },
      "source": [
        "# Iterative pseudo-labelling"
      ]
    },
    {
      "cell_type": "markdown",
      "metadata": {
        "id": "o9_g1Kpqkhi7"
      },
      "source": [
        "Previous data aug + pseudo-labelling data"
      ]
    },
    {
      "cell_type": "code",
      "execution_count": 39,
      "metadata": {
        "colab": {
          "base_uri": "https://localhost:8080/"
        },
        "id": "igC7CvSZkgQH",
        "outputId": "17c7ee00-4f0f-4ba1-c8ea-638f15f07c9c"
      },
      "outputs": [
        {
          "data": {
            "text/plain": [
              "49261"
            ]
          },
          "execution_count": 39,
          "metadata": {},
          "output_type": "execute_result"
        }
      ],
      "source": [
        "len(combined_dataset)"
      ]
    },
    {
      "cell_type": "code",
      "execution_count": 40,
      "metadata": {
        "colab": {
          "base_uri": "https://localhost:8080/"
        },
        "id": "EAfxN-BwnAog",
        "outputId": "56f05563-9fe9-472d-8192-84123400c601"
      },
      "outputs": [
        {
          "data": {
            "text/plain": [
              "44161"
            ]
          },
          "execution_count": 40,
          "metadata": {},
          "output_type": "execute_result"
        }
      ],
      "source": [
        "len(all_pseudo_indices)"
      ]
    },
    {
      "cell_type": "code",
      "execution_count": 61,
      "metadata": {
        "colab": {
          "base_uri": "https://localhost:8080/"
        },
        "id": "-Ey7yeQ5NAdH",
        "outputId": "8b14b21f-1c58-4e4e-fe7b-66ebf81f5897"
      },
      "outputs": [
        {
          "data": {
            "text/plain": [
              "15739"
            ]
          },
          "execution_count": 61,
          "metadata": {},
          "output_type": "execute_result"
        }
      ],
      "source": [
        "remaining_indices = sorted(set(range(len(ds_unlabeled))) - set(all_pseudo_indices))\n",
        "len(remaining_indices)"
      ]
    },
    {
      "cell_type": "markdown",
      "metadata": {
        "id": "pCZUV_C0ItfM"
      },
      "source": [
        "Use psuedo-laeblling and combined dataset from previous step"
      ]
    },
    {
      "cell_type": "code",
      "execution_count": 62,
      "metadata": {
        "colab": {
          "base_uri": "https://localhost:8080/"
        },
        "id": "yAsnFeaN7sVv",
        "outputId": "bde830ae-440a-4c53-aa21-4a69c203995f"
      },
      "outputs": [
        {
          "name": "stdout",
          "output_type": "stream",
          "text": [
            "\n",
            "### Iteration 1 ###\n",
            "Remaining unlabeled samples: 15739\n",
            "Pseudo-labeled: 7100 samples with confidence > 0.99\n",
            "New unique pseudo-labeled samples to add: 7100\n",
            "Combined dataset size after merge: 56361\n"
          ]
        },
        {
          "name": "stderr",
          "output_type": "stream",
          "text": [
            "  7%|▋         | 1/15 [01:28<20:39, 88.53s/it]"
          ]
        },
        {
          "name": "stdout",
          "output_type": "stream",
          "text": [
            "| Epoch: 1/15 | Train: Loss 0.0296 Accuracy : 0.9910 | Val: Loss 0.0185 Accuracy : 0.9933\n",
            "\n"
          ]
        },
        {
          "name": "stderr",
          "output_type": "stream",
          "text": [
            "\r 13%|█▎        | 2/15 [02:57<19:14, 88.84s/it]"
          ]
        },
        {
          "name": "stdout",
          "output_type": "stream",
          "text": [
            "| Epoch: 2/15 | Train: Loss 0.0124 Accuracy : 0.9962 | Val: Loss 0.0209 Accuracy : 0.9935\n",
            "\n"
          ]
        },
        {
          "name": "stderr",
          "output_type": "stream",
          "text": [
            "\r 20%|██        | 3/15 [04:24<17:33, 87.79s/it]"
          ]
        },
        {
          "name": "stdout",
          "output_type": "stream",
          "text": [
            "| Epoch: 3/15 | Train: Loss 0.0097 Accuracy : 0.9967 | Val: Loss 0.0146 Accuracy : 0.9959\n",
            "\n"
          ]
        },
        {
          "name": "stderr",
          "output_type": "stream",
          "text": [
            "\r 27%|██▋       | 4/15 [05:50<15:59, 87.20s/it]"
          ]
        },
        {
          "name": "stdout",
          "output_type": "stream",
          "text": [
            "| Epoch: 4/15 | Train: Loss 0.0081 Accuracy : 0.9975 | Val: Loss 0.0129 Accuracy : 0.9965\n",
            "\n"
          ]
        },
        {
          "name": "stderr",
          "output_type": "stream",
          "text": [
            "\r 33%|███▎      | 5/15 [07:17<14:30, 87.06s/it]"
          ]
        },
        {
          "name": "stdout",
          "output_type": "stream",
          "text": [
            "| Epoch: 5/15 | Train: Loss 0.0062 Accuracy : 0.9980 | Val: Loss 0.0176 Accuracy : 0.9944\n",
            "\n"
          ]
        },
        {
          "name": "stderr",
          "output_type": "stream",
          "text": [
            "\r 40%|████      | 6/15 [08:43<12:59, 86.63s/it]"
          ]
        },
        {
          "name": "stdout",
          "output_type": "stream",
          "text": [
            "| Epoch: 6/15 | Train: Loss 0.0065 Accuracy : 0.9978 | Val: Loss 0.0084 Accuracy : 0.9973\n",
            "\n"
          ]
        },
        {
          "name": "stderr",
          "output_type": "stream",
          "text": [
            "\r 47%|████▋     | 7/15 [10:08<11:30, 86.34s/it]"
          ]
        },
        {
          "name": "stdout",
          "output_type": "stream",
          "text": [
            "| Epoch: 7/15 | Train: Loss 0.0045 Accuracy : 0.9985 | Val: Loss 0.0097 Accuracy : 0.9973\n",
            "\n"
          ]
        },
        {
          "name": "stderr",
          "output_type": "stream",
          "text": [
            "\r 53%|█████▎    | 8/15 [11:36<10:07, 86.72s/it]"
          ]
        },
        {
          "name": "stdout",
          "output_type": "stream",
          "text": [
            "| Epoch: 8/15 | Train: Loss 0.0019 Accuracy : 0.9996 | Val: Loss 0.0085 Accuracy : 0.9981\n",
            "\n"
          ]
        },
        {
          "name": "stderr",
          "output_type": "stream",
          "text": [
            "\r 60%|██████    | 9/15 [13:03<08:41, 86.86s/it]"
          ]
        },
        {
          "name": "stdout",
          "output_type": "stream",
          "text": [
            "| Epoch: 9/15 | Train: Loss 0.0054 Accuracy : 0.9984 | Val: Loss 0.0269 Accuracy : 0.9929\n",
            "\n"
          ]
        },
        {
          "name": "stderr",
          "output_type": "stream",
          "text": [
            "\r 67%|██████▋   | 10/15 [14:30<07:14, 86.83s/it]"
          ]
        },
        {
          "name": "stdout",
          "output_type": "stream",
          "text": [
            "| Epoch: 10/15 | Train: Loss 0.0042 Accuracy : 0.9987 | Val: Loss 0.0174 Accuracy : 0.9950\n",
            "\n"
          ]
        },
        {
          "name": "stderr",
          "output_type": "stream",
          "text": [
            "\r 73%|███████▎  | 11/15 [15:56<05:46, 86.67s/it]"
          ]
        },
        {
          "name": "stdout",
          "output_type": "stream",
          "text": [
            "| Epoch: 11/15 | Train: Loss 0.0022 Accuracy : 0.9992 | Val: Loss 0.0073 Accuracy : 0.9975\n",
            "\n"
          ]
        },
        {
          "name": "stderr",
          "output_type": "stream",
          "text": [
            "\r 80%|████████  | 12/15 [17:23<04:20, 86.86s/it]"
          ]
        },
        {
          "name": "stdout",
          "output_type": "stream",
          "text": [
            "| Epoch: 12/15 | Train: Loss 0.0044 Accuracy : 0.9987 | Val: Loss 0.0082 Accuracy : 0.9978\n",
            "\n"
          ]
        },
        {
          "name": "stderr",
          "output_type": "stream",
          "text": [
            "\r 87%|████████▋ | 13/15 [18:49<02:53, 86.55s/it]"
          ]
        },
        {
          "name": "stdout",
          "output_type": "stream",
          "text": [
            "| Epoch: 13/15 | Train: Loss 0.0012 Accuracy : 0.9998 | Val: Loss 0.0076 Accuracy : 0.9977\n",
            "\n"
          ]
        },
        {
          "name": "stderr",
          "output_type": "stream",
          "text": [
            "\r 93%|█████████▎| 14/15 [20:15<01:26, 86.43s/it]"
          ]
        },
        {
          "name": "stdout",
          "output_type": "stream",
          "text": [
            "| Epoch: 14/15 | Train: Loss 0.0026 Accuracy : 0.9991 | Val: Loss 0.0180 Accuracy : 0.9955\n",
            "\n"
          ]
        },
        {
          "name": "stderr",
          "output_type": "stream",
          "text": [
            "100%|██████████| 15/15 [21:42<00:00, 86.86s/it]"
          ]
        },
        {
          "name": "stdout",
          "output_type": "stream",
          "text": [
            "| Epoch: 15/15 | Train: Loss 0.0027 Accuracy : 0.9991 | Val: Loss 0.0139 Accuracy : 0.9961\n",
            "\n"
          ]
        },
        {
          "name": "stderr",
          "output_type": "stream",
          "text": [
            "\n"
          ]
        },
        {
          "name": "stdout",
          "output_type": "stream",
          "text": [
            "Test Accuracy after iteration 1: 0.9613\n",
            "Next threshold: 0.989\n",
            "\n",
            "### Iteration 2 ###\n",
            "Remaining unlabeled samples: 8639\n",
            "Pseudo-labeled: 5339 samples with confidence > 0.989\n",
            "New unique pseudo-labeled samples to add: 5339\n",
            "Combined dataset size after merge: 61700\n"
          ]
        },
        {
          "name": "stderr",
          "output_type": "stream",
          "text": [
            "  7%|▋         | 1/15 [01:35<22:22, 95.90s/it]"
          ]
        },
        {
          "name": "stdout",
          "output_type": "stream",
          "text": [
            "| Epoch: 1/15 | Train: Loss 0.0214 Accuracy : 0.9933 | Val: Loss 0.0108 Accuracy : 0.9968\n",
            "\n"
          ]
        },
        {
          "name": "stderr",
          "output_type": "stream",
          "text": [
            "\r 13%|█▎        | 2/15 [03:10<20:39, 95.33s/it]"
          ]
        },
        {
          "name": "stdout",
          "output_type": "stream",
          "text": [
            "| Epoch: 2/15 | Train: Loss 0.0064 Accuracy : 0.9976 | Val: Loss 0.0113 Accuracy : 0.9960\n",
            "\n"
          ]
        },
        {
          "name": "stderr",
          "output_type": "stream",
          "text": [
            "\r 20%|██        | 3/15 [04:47<19:08, 95.72s/it]"
          ]
        },
        {
          "name": "stdout",
          "output_type": "stream",
          "text": [
            "| Epoch: 3/15 | Train: Loss 0.0067 Accuracy : 0.9978 | Val: Loss 0.0114 Accuracy : 0.9960\n",
            "\n"
          ]
        },
        {
          "name": "stderr",
          "output_type": "stream",
          "text": [
            "\r 27%|██▋       | 4/15 [06:22<17:31, 95.55s/it]"
          ]
        },
        {
          "name": "stdout",
          "output_type": "stream",
          "text": [
            "| Epoch: 4/15 | Train: Loss 0.0041 Accuracy : 0.9986 | Val: Loss 0.0144 Accuracy : 0.9959\n",
            "\n"
          ]
        },
        {
          "name": "stderr",
          "output_type": "stream",
          "text": [
            "\r 33%|███▎      | 5/15 [07:57<15:53, 95.37s/it]"
          ]
        },
        {
          "name": "stdout",
          "output_type": "stream",
          "text": [
            "| Epoch: 5/15 | Train: Loss 0.0046 Accuracy : 0.9985 | Val: Loss 0.0189 Accuracy : 0.9945\n",
            "\n"
          ]
        },
        {
          "name": "stderr",
          "output_type": "stream",
          "text": [
            "\r 40%|████      | 6/15 [09:32<14:19, 95.46s/it]"
          ]
        },
        {
          "name": "stdout",
          "output_type": "stream",
          "text": [
            "| Epoch: 6/15 | Train: Loss 0.0045 Accuracy : 0.9987 | Val: Loss 0.0118 Accuracy : 0.9966\n",
            "\n"
          ]
        },
        {
          "name": "stderr",
          "output_type": "stream",
          "text": [
            "\r 47%|████▋     | 7/15 [11:07<12:41, 95.20s/it]"
          ]
        },
        {
          "name": "stdout",
          "output_type": "stream",
          "text": [
            "| Epoch: 7/15 | Train: Loss 0.0038 Accuracy : 0.9988 | Val: Loss 0.0137 Accuracy : 0.9965\n",
            "\n"
          ]
        },
        {
          "name": "stderr",
          "output_type": "stream",
          "text": [
            "\r 53%|█████▎    | 8/15 [12:43<11:07, 95.30s/it]"
          ]
        },
        {
          "name": "stdout",
          "output_type": "stream",
          "text": [
            "| Epoch: 8/15 | Train: Loss 0.0034 Accuracy : 0.9989 | Val: Loss 0.0140 Accuracy : 0.9958\n",
            "\n"
          ]
        },
        {
          "name": "stderr",
          "output_type": "stream",
          "text": [
            "\r 60%|██████    | 9/15 [14:18<09:31, 95.20s/it]"
          ]
        },
        {
          "name": "stdout",
          "output_type": "stream",
          "text": [
            "| Epoch: 9/15 | Train: Loss 0.0041 Accuracy : 0.9987 | Val: Loss 0.0184 Accuracy : 0.9950\n",
            "\n"
          ]
        },
        {
          "name": "stderr",
          "output_type": "stream",
          "text": [
            "\r 67%|██████▋   | 10/15 [15:54<07:57, 95.41s/it]"
          ]
        },
        {
          "name": "stdout",
          "output_type": "stream",
          "text": [
            "| Epoch: 10/15 | Train: Loss 0.0024 Accuracy : 0.9993 | Val: Loss 0.0118 Accuracy : 0.9964\n",
            "\n"
          ]
        },
        {
          "name": "stderr",
          "output_type": "stream",
          "text": [
            "\r 73%|███████▎  | 11/15 [17:29<06:22, 95.51s/it]"
          ]
        },
        {
          "name": "stdout",
          "output_type": "stream",
          "text": [
            "| Epoch: 11/15 | Train: Loss 0.0003 Accuracy : 0.9999 | Val: Loss 0.0114 Accuracy : 0.9968\n",
            "\n"
          ]
        },
        {
          "name": "stderr",
          "output_type": "stream",
          "text": [
            "\r 80%|████████  | 12/15 [19:08<04:49, 96.53s/it]"
          ]
        },
        {
          "name": "stdout",
          "output_type": "stream",
          "text": [
            "| Epoch: 12/15 | Train: Loss 0.0001 Accuracy : 1.0000 | Val: Loss 0.0100 Accuracy : 0.9972\n",
            "\n"
          ]
        },
        {
          "name": "stderr",
          "output_type": "stream",
          "text": [
            "\r 87%|████████▋ | 13/15 [20:44<03:12, 96.29s/it]"
          ]
        },
        {
          "name": "stdout",
          "output_type": "stream",
          "text": [
            "| Epoch: 13/15 | Train: Loss 0.0000 Accuracy : 1.0000 | Val: Loss 0.0100 Accuracy : 0.9971\n",
            "\n"
          ]
        },
        {
          "name": "stderr",
          "output_type": "stream",
          "text": [
            "\r 93%|█████████▎| 14/15 [22:21<01:36, 96.51s/it]"
          ]
        },
        {
          "name": "stdout",
          "output_type": "stream",
          "text": [
            "| Epoch: 14/15 | Train: Loss 0.0000 Accuracy : 1.0000 | Val: Loss 0.0100 Accuracy : 0.9972\n",
            "\n"
          ]
        },
        {
          "name": "stderr",
          "output_type": "stream",
          "text": [
            "100%|██████████| 15/15 [24:00<00:00, 96.02s/it]"
          ]
        },
        {
          "name": "stdout",
          "output_type": "stream",
          "text": [
            "| Epoch: 15/15 | Train: Loss 0.0000 Accuracy : 1.0000 | Val: Loss 0.0102 Accuracy : 0.9975\n",
            "\n"
          ]
        },
        {
          "name": "stderr",
          "output_type": "stream",
          "text": [
            "\n"
          ]
        },
        {
          "name": "stdout",
          "output_type": "stream",
          "text": [
            "Test Accuracy after iteration 2: 0.9683\n",
            "Next threshold: 0.988\n",
            "\n",
            "### Iteration 3 ###\n",
            "Remaining unlabeled samples: 3300\n",
            "Pseudo-labeled: 1908 samples with confidence > 0.988\n",
            "New unique pseudo-labeled samples to add: 1908\n",
            "Combined dataset size after merge: 63608\n"
          ]
        },
        {
          "name": "stderr",
          "output_type": "stream",
          "text": [
            "  7%|▋         | 1/15 [01:37<22:44, 97.47s/it]"
          ]
        },
        {
          "name": "stdout",
          "output_type": "stream",
          "text": [
            "| Epoch: 1/15 | Train: Loss 0.0242 Accuracy : 0.9936 | Val: Loss 0.0193 Accuracy : 0.9947\n",
            "\n"
          ]
        },
        {
          "name": "stderr",
          "output_type": "stream",
          "text": [
            "\r 13%|█▎        | 2/15 [03:15<21:14, 98.08s/it]"
          ]
        },
        {
          "name": "stdout",
          "output_type": "stream",
          "text": [
            "| Epoch: 2/15 | Train: Loss 0.0079 Accuracy : 0.9974 | Val: Loss 0.0117 Accuracy : 0.9962\n",
            "\n"
          ]
        },
        {
          "name": "stderr",
          "output_type": "stream",
          "text": [
            "\r 20%|██        | 3/15 [04:56<19:52, 99.39s/it]"
          ]
        },
        {
          "name": "stdout",
          "output_type": "stream",
          "text": [
            "| Epoch: 3/15 | Train: Loss 0.0041 Accuracy : 0.9986 | Val: Loss 0.0165 Accuracy : 0.9947\n",
            "\n"
          ]
        },
        {
          "name": "stderr",
          "output_type": "stream",
          "text": [
            "\r 27%|██▋       | 4/15 [06:35<18:08, 98.98s/it]"
          ]
        },
        {
          "name": "stdout",
          "output_type": "stream",
          "text": [
            "| Epoch: 4/15 | Train: Loss 0.0060 Accuracy : 0.9980 | Val: Loss 0.0122 Accuracy : 0.9969\n",
            "\n"
          ]
        },
        {
          "name": "stderr",
          "output_type": "stream",
          "text": [
            "\r 33%|███▎      | 5/15 [08:13<16:27, 98.72s/it]"
          ]
        },
        {
          "name": "stdout",
          "output_type": "stream",
          "text": [
            "| Epoch: 5/15 | Train: Loss 0.0048 Accuracy : 0.9985 | Val: Loss 0.0149 Accuracy : 0.9958\n",
            "\n"
          ]
        },
        {
          "name": "stderr",
          "output_type": "stream",
          "text": [
            "\r 40%|████      | 6/15 [09:54<14:55, 99.55s/it]"
          ]
        },
        {
          "name": "stdout",
          "output_type": "stream",
          "text": [
            "| Epoch: 6/15 | Train: Loss 0.0045 Accuracy : 0.9985 | Val: Loss 0.0153 Accuracy : 0.9947\n",
            "\n"
          ]
        },
        {
          "name": "stderr",
          "output_type": "stream",
          "text": [
            "\r 47%|████▋     | 7/15 [11:32<13:11, 98.97s/it]"
          ]
        },
        {
          "name": "stdout",
          "output_type": "stream",
          "text": [
            "| Epoch: 7/15 | Train: Loss 0.0045 Accuracy : 0.9984 | Val: Loss 0.0123 Accuracy : 0.9965\n",
            "\n"
          ]
        },
        {
          "name": "stderr",
          "output_type": "stream",
          "text": [
            "\r 53%|█████▎    | 8/15 [13:11<11:32, 98.95s/it]"
          ]
        },
        {
          "name": "stdout",
          "output_type": "stream",
          "text": [
            "| Epoch: 8/15 | Train: Loss 0.0029 Accuracy : 0.9991 | Val: Loss 0.0145 Accuracy : 0.9955\n",
            "\n"
          ]
        },
        {
          "name": "stderr",
          "output_type": "stream",
          "text": [
            "\r 60%|██████    | 9/15 [14:51<09:55, 99.19s/it]"
          ]
        },
        {
          "name": "stdout",
          "output_type": "stream",
          "text": [
            "| Epoch: 9/15 | Train: Loss 0.0033 Accuracy : 0.9989 | Val: Loss 0.0163 Accuracy : 0.9949\n",
            "\n"
          ]
        },
        {
          "name": "stderr",
          "output_type": "stream",
          "text": [
            "\r 67%|██████▋   | 10/15 [16:28<08:13, 98.74s/it]"
          ]
        },
        {
          "name": "stdout",
          "output_type": "stream",
          "text": [
            "| Epoch: 10/15 | Train: Loss 0.0038 Accuracy : 0.9988 | Val: Loss 0.0221 Accuracy : 0.9943\n",
            "\n"
          ]
        },
        {
          "name": "stderr",
          "output_type": "stream",
          "text": [
            "\r 73%|███████▎  | 11/15 [18:07<06:34, 98.58s/it]"
          ]
        },
        {
          "name": "stdout",
          "output_type": "stream",
          "text": [
            "| Epoch: 11/15 | Train: Loss 0.0026 Accuracy : 0.9991 | Val: Loss 0.0179 Accuracy : 0.9950\n",
            "\n"
          ]
        },
        {
          "name": "stderr",
          "output_type": "stream",
          "text": [
            "\r 80%|████████  | 12/15 [19:44<04:54, 98.22s/it]"
          ]
        },
        {
          "name": "stdout",
          "output_type": "stream",
          "text": [
            "| Epoch: 12/15 | Train: Loss 0.0036 Accuracy : 0.9988 | Val: Loss 0.0168 Accuracy : 0.9950\n",
            "\n"
          ]
        },
        {
          "name": "stderr",
          "output_type": "stream",
          "text": [
            "\r 87%|████████▋ | 13/15 [21:20<03:15, 97.63s/it]"
          ]
        },
        {
          "name": "stdout",
          "output_type": "stream",
          "text": [
            "| Epoch: 13/15 | Train: Loss 0.0019 Accuracy : 0.9994 | Val: Loss 0.0138 Accuracy : 0.9950\n",
            "\n"
          ]
        },
        {
          "name": "stderr",
          "output_type": "stream",
          "text": [
            "\r 93%|█████████▎| 14/15 [22:58<01:37, 97.57s/it]"
          ]
        },
        {
          "name": "stdout",
          "output_type": "stream",
          "text": [
            "| Epoch: 14/15 | Train: Loss 0.0020 Accuracy : 0.9994 | Val: Loss 0.0276 Accuracy : 0.9930\n",
            "\n"
          ]
        },
        {
          "name": "stderr",
          "output_type": "stream",
          "text": [
            "100%|██████████| 15/15 [24:33<00:00, 98.23s/it]"
          ]
        },
        {
          "name": "stdout",
          "output_type": "stream",
          "text": [
            "| Epoch: 15/15 | Train: Loss 0.0036 Accuracy : 0.9990 | Val: Loss 0.0210 Accuracy : 0.9933\n",
            "\n"
          ]
        },
        {
          "name": "stderr",
          "output_type": "stream",
          "text": [
            "\n"
          ]
        },
        {
          "name": "stdout",
          "output_type": "stream",
          "text": [
            "Test Accuracy after iteration 3: 0.9661\n",
            "Next threshold: 0.987\n",
            "\n",
            "### Iteration 4 ###\n",
            "Remaining unlabeled samples: 1392\n",
            "Pseudo-labeled: 487 samples with confidence > 0.987\n",
            "New unique pseudo-labeled samples to add: 487\n",
            "Combined dataset size after merge: 64095\n"
          ]
        },
        {
          "name": "stderr",
          "output_type": "stream",
          "text": [
            "  7%|▋         | 1/15 [01:38<22:59, 98.54s/it]"
          ]
        },
        {
          "name": "stdout",
          "output_type": "stream",
          "text": [
            "| Epoch: 1/15 | Train: Loss 0.0214 Accuracy : 0.9937 | Val: Loss 0.0113 Accuracy : 0.9967\n",
            "\n"
          ]
        },
        {
          "name": "stderr",
          "output_type": "stream",
          "text": [
            "\r 13%|█▎        | 2/15 [03:17<21:26, 99.00s/it]"
          ]
        },
        {
          "name": "stdout",
          "output_type": "stream",
          "text": [
            "| Epoch: 2/15 | Train: Loss 0.0058 Accuracy : 0.9980 | Val: Loss 0.0104 Accuracy : 0.9972\n",
            "\n"
          ]
        },
        {
          "name": "stderr",
          "output_type": "stream",
          "text": [
            "\r 20%|██        | 3/15 [04:55<19:41, 98.43s/it]"
          ]
        },
        {
          "name": "stdout",
          "output_type": "stream",
          "text": [
            "| Epoch: 3/15 | Train: Loss 0.0037 Accuracy : 0.9987 | Val: Loss 0.0134 Accuracy : 0.9964\n",
            "\n"
          ]
        },
        {
          "name": "stderr",
          "output_type": "stream",
          "text": [
            "\r 27%|██▋       | 4/15 [06:33<18:01, 98.30s/it]"
          ]
        },
        {
          "name": "stdout",
          "output_type": "stream",
          "text": [
            "| Epoch: 4/15 | Train: Loss 0.0044 Accuracy : 0.9986 | Val: Loss 0.0134 Accuracy : 0.9966\n",
            "\n"
          ]
        },
        {
          "name": "stderr",
          "output_type": "stream",
          "text": [
            "\r 33%|███▎      | 5/15 [08:11<16:21, 98.19s/it]"
          ]
        },
        {
          "name": "stdout",
          "output_type": "stream",
          "text": [
            "| Epoch: 5/15 | Train: Loss 0.0038 Accuracy : 0.9990 | Val: Loss 0.0170 Accuracy : 0.9954\n",
            "\n"
          ]
        },
        {
          "name": "stderr",
          "output_type": "stream",
          "text": [
            "\r 40%|████      | 6/15 [09:48<14:38, 97.61s/it]"
          ]
        },
        {
          "name": "stdout",
          "output_type": "stream",
          "text": [
            "| Epoch: 6/15 | Train: Loss 0.0040 Accuracy : 0.9988 | Val: Loss 0.0186 Accuracy : 0.9952\n",
            "\n"
          ]
        },
        {
          "name": "stderr",
          "output_type": "stream",
          "text": [
            "\r 47%|████▋     | 7/15 [11:25<12:59, 97.45s/it]"
          ]
        },
        {
          "name": "stdout",
          "output_type": "stream",
          "text": [
            "| Epoch: 7/15 | Train: Loss 0.0022 Accuracy : 0.9992 | Val: Loss 0.0188 Accuracy : 0.9947\n",
            "\n"
          ]
        },
        {
          "name": "stderr",
          "output_type": "stream",
          "text": [
            "\r 53%|█████▎    | 8/15 [13:02<11:22, 97.47s/it]"
          ]
        },
        {
          "name": "stdout",
          "output_type": "stream",
          "text": [
            "| Epoch: 8/15 | Train: Loss 0.0032 Accuracy : 0.9989 | Val: Loss 0.0181 Accuracy : 0.9949\n",
            "\n"
          ]
        },
        {
          "name": "stderr",
          "output_type": "stream",
          "text": [
            "\r 60%|██████    | 9/15 [14:41<09:46, 97.69s/it]"
          ]
        },
        {
          "name": "stdout",
          "output_type": "stream",
          "text": [
            "| Epoch: 9/15 | Train: Loss 0.0032 Accuracy : 0.9988 | Val: Loss 0.0170 Accuracy : 0.9952\n",
            "\n"
          ]
        },
        {
          "name": "stderr",
          "output_type": "stream",
          "text": [
            "\r 67%|██████▋   | 10/15 [16:18<08:08, 97.70s/it]"
          ]
        },
        {
          "name": "stdout",
          "output_type": "stream",
          "text": [
            "| Epoch: 10/15 | Train: Loss 0.0021 Accuracy : 0.9992 | Val: Loss 0.0154 Accuracy : 0.9959\n",
            "\n"
          ]
        },
        {
          "name": "stderr",
          "output_type": "stream",
          "text": [
            "\r 73%|███████▎  | 11/15 [17:56<06:31, 97.78s/it]"
          ]
        },
        {
          "name": "stdout",
          "output_type": "stream",
          "text": [
            "| Epoch: 11/15 | Train: Loss 0.0031 Accuracy : 0.9991 | Val: Loss 0.0186 Accuracy : 0.9948\n",
            "\n"
          ]
        },
        {
          "name": "stderr",
          "output_type": "stream",
          "text": [
            "\r 80%|████████  | 12/15 [19:34<04:53, 97.70s/it]"
          ]
        },
        {
          "name": "stdout",
          "output_type": "stream",
          "text": [
            "| Epoch: 12/15 | Train: Loss 0.0014 Accuracy : 0.9996 | Val: Loss 0.0170 Accuracy : 0.9954\n",
            "\n"
          ]
        },
        {
          "name": "stderr",
          "output_type": "stream",
          "text": [
            "\r 87%|████████▋ | 13/15 [21:11<03:14, 97.46s/it]"
          ]
        },
        {
          "name": "stdout",
          "output_type": "stream",
          "text": [
            "| Epoch: 13/15 | Train: Loss 0.0035 Accuracy : 0.9988 | Val: Loss 0.0185 Accuracy : 0.9951\n",
            "\n"
          ]
        },
        {
          "name": "stderr",
          "output_type": "stream",
          "text": [
            "\r 93%|█████████▎| 14/15 [22:48<01:37, 97.59s/it]"
          ]
        },
        {
          "name": "stdout",
          "output_type": "stream",
          "text": [
            "| Epoch: 14/15 | Train: Loss 0.0019 Accuracy : 0.9993 | Val: Loss 0.0169 Accuracy : 0.9950\n",
            "\n"
          ]
        },
        {
          "name": "stderr",
          "output_type": "stream",
          "text": [
            "100%|██████████| 15/15 [24:26<00:00, 97.78s/it]"
          ]
        },
        {
          "name": "stdout",
          "output_type": "stream",
          "text": [
            "| Epoch: 15/15 | Train: Loss 0.0018 Accuracy : 0.9995 | Val: Loss 0.0207 Accuracy : 0.9945\n",
            "\n"
          ]
        },
        {
          "name": "stderr",
          "output_type": "stream",
          "text": [
            "\n"
          ]
        },
        {
          "name": "stdout",
          "output_type": "stream",
          "text": [
            "Test Accuracy after iteration 4: 0.9716\n",
            "Next threshold: 0.986\n",
            "\n",
            "### Iteration 5 ###\n",
            "Remaining unlabeled samples: 905\n",
            "Pseudo-labeled: 363 samples with confidence > 0.986\n",
            "New unique pseudo-labeled samples to add: 363\n",
            "Combined dataset size after merge: 64458\n"
          ]
        },
        {
          "name": "stderr",
          "output_type": "stream",
          "text": [
            "  7%|▋         | 1/15 [01:37<22:47, 97.70s/it]"
          ]
        },
        {
          "name": "stdout",
          "output_type": "stream",
          "text": [
            "| Epoch: 1/15 | Train: Loss 0.0182 Accuracy : 0.9948 | Val: Loss 0.0132 Accuracy : 0.9966\n",
            "\n"
          ]
        },
        {
          "name": "stderr",
          "output_type": "stream",
          "text": [
            "\r 13%|█▎        | 2/15 [03:15<21:09, 97.65s/it]"
          ]
        },
        {
          "name": "stdout",
          "output_type": "stream",
          "text": [
            "| Epoch: 2/15 | Train: Loss 0.0049 Accuracy : 0.9985 | Val: Loss 0.0091 Accuracy : 0.9974\n",
            "\n"
          ]
        },
        {
          "name": "stderr",
          "output_type": "stream",
          "text": [
            "\r 20%|██        | 3/15 [04:52<19:28, 97.40s/it]"
          ]
        },
        {
          "name": "stdout",
          "output_type": "stream",
          "text": [
            "| Epoch: 3/15 | Train: Loss 0.0017 Accuracy : 0.9995 | Val: Loss 0.0120 Accuracy : 0.9973\n",
            "\n"
          ]
        },
        {
          "name": "stderr",
          "output_type": "stream",
          "text": [
            "\r 27%|██▋       | 4/15 [06:35<18:14, 99.49s/it]"
          ]
        },
        {
          "name": "stdout",
          "output_type": "stream",
          "text": [
            "| Epoch: 4/15 | Train: Loss 0.0038 Accuracy : 0.9986 | Val: Loss 0.0162 Accuracy : 0.9953\n",
            "\n"
          ]
        },
        {
          "name": "stderr",
          "output_type": "stream",
          "text": [
            "\r 33%|███▎      | 5/15 [08:18<16:47, 100.75s/it]"
          ]
        },
        {
          "name": "stdout",
          "output_type": "stream",
          "text": [
            "| Epoch: 5/15 | Train: Loss 0.0043 Accuracy : 0.9985 | Val: Loss 0.0150 Accuracy : 0.9958\n",
            "\n"
          ]
        },
        {
          "name": "stderr",
          "output_type": "stream",
          "text": [
            "\r 40%|████      | 6/15 [09:59<15:07, 100.88s/it]"
          ]
        },
        {
          "name": "stdout",
          "output_type": "stream",
          "text": [
            "| Epoch: 6/15 | Train: Loss 0.0026 Accuracy : 0.9990 | Val: Loss 0.0144 Accuracy : 0.9957\n",
            "\n"
          ]
        },
        {
          "name": "stderr",
          "output_type": "stream",
          "text": [
            "\r 47%|████▋     | 7/15 [12:00<14:21, 107.69s/it]"
          ]
        },
        {
          "name": "stdout",
          "output_type": "stream",
          "text": [
            "| Epoch: 7/15 | Train: Loss 0.0020 Accuracy : 0.9994 | Val: Loss 0.0152 Accuracy : 0.9951\n",
            "\n"
          ]
        },
        {
          "name": "stderr",
          "output_type": "stream",
          "text": [
            "\r 53%|█████▎    | 8/15 [13:42<12:19, 105.65s/it]"
          ]
        },
        {
          "name": "stdout",
          "output_type": "stream",
          "text": [
            "| Epoch: 8/15 | Train: Loss 0.0027 Accuracy : 0.9991 | Val: Loss 0.0196 Accuracy : 0.9946\n",
            "\n"
          ]
        },
        {
          "name": "stderr",
          "output_type": "stream",
          "text": [
            "\r 60%|██████    | 9/15 [15:27<10:32, 105.39s/it]"
          ]
        },
        {
          "name": "stdout",
          "output_type": "stream",
          "text": [
            "| Epoch: 9/15 | Train: Loss 0.0028 Accuracy : 0.9992 | Val: Loss 0.0255 Accuracy : 0.9940\n",
            "\n"
          ]
        },
        {
          "name": "stderr",
          "output_type": "stream",
          "text": [
            "\r 67%|██████▋   | 10/15 [17:28<09:11, 110.22s/it]"
          ]
        },
        {
          "name": "stdout",
          "output_type": "stream",
          "text": [
            "| Epoch: 10/15 | Train: Loss 0.0027 Accuracy : 0.9993 | Val: Loss 0.0195 Accuracy : 0.9952\n",
            "\n"
          ]
        },
        {
          "name": "stderr",
          "output_type": "stream",
          "text": [
            "\r 73%|███████▎  | 11/15 [19:30<07:36, 114.03s/it]"
          ]
        },
        {
          "name": "stdout",
          "output_type": "stream",
          "text": [
            "| Epoch: 11/15 | Train: Loss 0.0022 Accuracy : 0.9994 | Val: Loss 0.0176 Accuracy : 0.9957\n",
            "\n"
          ]
        },
        {
          "name": "stderr",
          "output_type": "stream",
          "text": [
            "\r 80%|████████  | 12/15 [21:15<05:33, 111.19s/it]"
          ]
        },
        {
          "name": "stdout",
          "output_type": "stream",
          "text": [
            "| Epoch: 12/15 | Train: Loss 0.0025 Accuracy : 0.9993 | Val: Loss 0.0183 Accuracy : 0.9946\n",
            "\n"
          ]
        },
        {
          "name": "stderr",
          "output_type": "stream",
          "text": [
            "\r 87%|████████▋ | 13/15 [22:58<03:37, 108.70s/it]"
          ]
        },
        {
          "name": "stdout",
          "output_type": "stream",
          "text": [
            "| Epoch: 13/15 | Train: Loss 0.0020 Accuracy : 0.9995 | Val: Loss 0.0169 Accuracy : 0.9953\n",
            "\n"
          ]
        },
        {
          "name": "stderr",
          "output_type": "stream",
          "text": [
            "\r 93%|█████████▎| 14/15 [24:38<01:46, 106.08s/it]"
          ]
        },
        {
          "name": "stdout",
          "output_type": "stream",
          "text": [
            "| Epoch: 14/15 | Train: Loss 0.0006 Accuracy : 0.9998 | Val: Loss 0.0227 Accuracy : 0.9947\n",
            "\n"
          ]
        },
        {
          "name": "stderr",
          "output_type": "stream",
          "text": [
            "100%|██████████| 15/15 [26:15<00:00, 105.01s/it]"
          ]
        },
        {
          "name": "stdout",
          "output_type": "stream",
          "text": [
            "| Epoch: 15/15 | Train: Loss 0.0024 Accuracy : 0.9993 | Val: Loss 0.0201 Accuracy : 0.9955\n",
            "\n"
          ]
        },
        {
          "name": "stderr",
          "output_type": "stream",
          "text": [
            "\n"
          ]
        },
        {
          "name": "stdout",
          "output_type": "stream",
          "text": [
            "Test Accuracy after iteration 5: 0.9718\n",
            "Next threshold: 0.985\n"
          ]
        }
      ],
      "source": [
        "from torch.utils.data import TensorDataset, ConcatDataset, Subset\n",
        "from sklearn.model_selection import train_test_split\n",
        "\n",
        "num_iterations = 5\n",
        "threshold = 0.99\n",
        "num_epochs = 15\n",
        "\n",
        "for iteration in range(num_iterations):\n",
        "    print(f\"\\n### Iteration {iteration + 1} ###\")\n",
        "\n",
        "    # Compute remaining unlabeled indices\n",
        "    remaining_indices = sorted(set(range(len(ds_unlabeled))) - set(all_pseudo_indices))\n",
        "    print(f\"Remaining unlabeled samples: {len(remaining_indices)}\")\n",
        "\n",
        "    # Stop if nothing left\n",
        "    if not remaining_indices:\n",
        "        print(\"All data has been pseudo-labeled.\")\n",
        "        break\n",
        "\n",
        "    # Create a new DataLoader with only the remaining unlabeled samples\n",
        "    remaining_subset = Subset(ds_unlabeled, remaining_indices)\n",
        "    remaining_loader = DataLoader(remaining_subset, batch_size=128, shuffle=False)\n",
        "\n",
        "    # Generate pseudo-labeled dataset and its corresponding indices\n",
        "    new_pseudo_dataset, new_pseudo_indices = generate_pseudo_labels(\n",
        "        model=cnn_pseudo,\n",
        "        dataloader=remaining_loader,\n",
        "        threshold=threshold,\n",
        "        dataset_indices=remaining_indices\n",
        "    )\n",
        "\n",
        "    # If no new data, stop\n",
        "    if len(new_pseudo_indices) == 0:\n",
        "        print(\"No new high-confidence pseudo-labels this round.\")\n",
        "        break\n",
        "\n",
        "    print(\"New unique pseudo-labeled samples to add:\", len(new_pseudo_indices))\n",
        "\n",
        "    # Update pseudo index tracker\n",
        "    all_pseudo_indices.extend(new_pseudo_indices)\n",
        "    all_pseudo_indices = list(set(all_pseudo_indices))  # Remove duplicates\n",
        "\n",
        "    # Combine new data\n",
        "    combined_dataset = ConcatDataset([combined_dataset, new_pseudo_dataset])\n",
        "    print(\"Combined dataset size after merge:\", len(combined_dataset))\n",
        "\n",
        "    # Re-split the updated combined dataset\n",
        "    labels_combined = [label for _, label in combined_dataset]\n",
        "    train_idx, val_idx = train_test_split(\n",
        "        list(range(len(labels_combined))),\n",
        "        test_size=0.2,\n",
        "        stratify=labels_combined,\n",
        "        random_state=42\n",
        "    )\n",
        "\n",
        "    train_set_combined = Subset(combined_dataset, train_idx)\n",
        "    val_set_combined = Subset(combined_dataset, val_idx)\n",
        "\n",
        "    # Reload DataLoaders\n",
        "    train_ld, val_ld, test_ld = load_data(train_set_combined, val_set_combined, original_test_ds, 32, 32, 64)\n",
        "\n",
        "    # Retrain on the updated combined dataset\n",
        "    loss_train, loss_valid, acc_train, acc_valid = train_model(\n",
        "        cnn_pseudo, num_epochs, train_ld, val_ld,\n",
        "        optimizer_name='Adam', early_stopping=False, learning_rate=0.001, device=device\n",
        "    )\n",
        "\n",
        "    # Evaluate on test\n",
        "    test_acc = test_model(cnn_pseudo, test_ld)\n",
        "    print(f\"Test Accuracy after iteration {iteration + 1}: {test_acc:.4f}\")\n",
        "\n",
        "    # Lower threshold slightly for next iteration\n",
        "    threshold -= 0.001\n",
        "    print(\"Next threshold:\", threshold)\n"
      ]
    },
    {
      "cell_type": "code",
      "execution_count": 65,
      "metadata": {
        "colab": {
          "base_uri": "https://localhost:8080/"
        },
        "id": "q8atb01pmqKI",
        "outputId": "17525ae1-9897-447e-bffc-adb7e91f7884"
      },
      "outputs": [
        {
          "name": "stdout",
          "output_type": "stream",
          "text": [
            "Iterative pseudo-labelling accuracy 5: 0.9718\n"
          ]
        }
      ],
      "source": [
        "print(f\"Iterative pseudo-labelling accuracy {num_iterations}: {test_model(cnn_pseudo, test_ld)}\")"
      ]
    },
    {
      "cell_type": "markdown",
      "metadata": {
        "id": "ftA5RtdtclUk"
      },
      "source": [
        "# t-SNE visualization of pseudo-labelling + data augmentation CNN features"
      ]
    },
    {
      "cell_type": "code",
      "execution_count": 63,
      "metadata": {
        "colab": {
          "base_uri": "https://localhost:8080/",
          "height": 579
        },
        "id": "IpkGohb0clUk",
        "outputId": "7bbea4b0-3f8d-4f9b-adf0-fb8712410b2d"
      },
      "outputs": [
        {
          "name": "stderr",
          "output_type": "stream",
          "text": [
            "/usr/local/lib/python3.11/dist-packages/sklearn/manifold/_t_sne.py:1164: FutureWarning: 'n_iter' was renamed to 'max_iter' in version 1.5 and will be removed in 1.7.\n",
            "  warnings.warn(\n"
          ]
        },
        {
          "data": {
            "image/png": "[encoded data removed]",
            "text/plain": [
              "<Figure size 800x600 with 1 Axes>"
            ]
          },
          "metadata": {},
          "output_type": "display_data"
        }
      ],
      "source": [
        "from sklearn.manifold import TSNE\n",
        "import matplotlib.pyplot as plt\n",
        "import torch\n",
        "\n",
        "# 1. Collect features from encoder\n",
        "features = []\n",
        "labels = []\n",
        "cnn_pseudo.eval()  # Switch model to evaluation mode\n",
        "with torch.no_grad():\n",
        "    for images, targets in test_ld:  # test_ld is your test data loader\n",
        "        images = images.to(device)\n",
        "        out = cnn_pseudo(images)  # Get model output (features)\n",
        "        features.append(out.cpu())  # Move to CPU\n",
        "        labels.append(targets)  # Store the true labels\n",
        "\n",
        "# Concatenate all features and labels into single tensors\n",
        "features = torch.cat(features).numpy()  # Convert to numpy\n",
        "labels = torch.cat(labels).numpy()\n",
        "\n",
        "# 2. Apply t-SNE\n",
        "tsne = TSNE(n_components=2, perplexity=30, n_iter=300)\n",
        "tsne_results = tsne.fit_transform(features)\n",
        "\n",
        "# 3. Plot the t-SNE results\n",
        "plt.figure(figsize=(8, 6))\n",
        "scatter = plt.scatter(tsne_results[:, 0], tsne_results[:, 1], c=labels, cmap='tab10', alpha=0.6)\n",
        "plt.legend(*scatter.legend_elements(), title=\"Digits\")\n",
        "plt.title(\"t-SNE Visualization of CNN Features\")\n",
        "plt.show()"
      ]
    },
    {
      "cell_type": "code",
      "execution_count": 67,
      "metadata": {
        "id": "1xt6h-7aoA0b"
      },
      "outputs": [],
      "source": [
        "def plot_confusion_matrix(model, test_loader, device, class_names=None):\n",
        "    output_fn = torch.nn.Softmax(dim=1)\n",
        "    model.eval()\n",
        "    torch.manual_seed(42)\n",
        "\n",
        "    all_preds = []\n",
        "    all_labels = []\n",
        "\n",
        "    with torch.no_grad():\n",
        "        for inputs, labels in test_loader:\n",
        "            inputs = inputs.to(device)\n",
        "            labels = labels.to(device)\n",
        "            outputs = model(x=inputs)\n",
        "            preds = output_fn(outputs).argmax(dim=1)\n",
        "            all_preds.extend(preds.cpu().numpy())\n",
        "            all_labels.extend(labels.cpu().numpy())\n",
        "\n",
        "    # Classification report\n",
        "    print(\"Classification Report:\")\n",
        "    print(classification_report(all_labels, all_preds, target_names=class_names))\n",
        "\n",
        "    # Confusion matrix\n",
        "    cm = confusion_matrix(all_labels, all_preds)\n",
        "    plt.figure(figsize=(8, 6))\n",
        "    sns.heatmap(cm, annot=True, fmt='g', cmap=\"Blues\", linewidths=0.5,\n",
        "            xticklabels=class_names, yticklabels=class_names)\n",
        "    plt.xlabel(\"Predicted Label\")\n",
        "    plt.ylabel(\"True Label\")\n",
        "    plt.title(\"Confusion Matrix\")\n",
        "    plt.tight_layout()\n",
        "    plt.show()"
      ]
    },
    {
      "cell_type": "code",
      "execution_count": 68,
      "metadata": {
        "colab": {
          "base_uri": "https://localhost:8080/",
          "height": 913
        },
        "id": "Kq6eaNJ-oM22",
        "outputId": "10cb8837-6f05-4369-e2ee-05b41c161b51"
      },
      "outputs": [
        {
          "name": "stdout",
          "output_type": "stream",
          "text": [
            "Classification Report:\n",
            "              precision    recall  f1-score   support\n",
            "\n",
            "    0 - zero       0.96      0.99      0.98       980\n",
            "     1 - one       0.95      0.99      0.97      1135\n",
            "     2 - two       0.98      0.95      0.97      1032\n",
            "   3 - three       0.98      0.98      0.98      1010\n",
            "    4 - four       0.97      0.98      0.98       982\n",
            "    5 - five       0.99      0.98      0.98       892\n",
            "     6 - six       0.99      0.98      0.98       958\n",
            "   7 - seven       0.93      0.98      0.95      1028\n",
            "   8 - eight       0.99      0.97      0.98       974\n",
            "    9 - nine       0.98      0.91      0.94      1009\n",
            "\n",
            "    accuracy                           0.97     10000\n",
            "   macro avg       0.97      0.97      0.97     10000\n",
            "weighted avg       0.97      0.97      0.97     10000\n",
            "\n"
          ]
        },
        {
          "data": {
            "image/png": "[encoded data removed]",
            "text/plain": [
              "<Figure size 800x600 with 2 Axes>"
            ]
          },
          "metadata": {},
          "output_type": "display_data"
        }
      ],
      "source": [
        "plot_confusion_matrix(cnn_pseudo, test_ld, device=device, class_names=original_train_ds.classes)"
      ]
    }
  ],
  "metadata": {
    "accelerator": "GPU",
    "colab": {
      "gpuType": "T4",
      "provenance": []
    },
    "kernelspec": {
      "display_name": "base",
      "language": "python",
      "name": "python3"
    },
    "language_info": {
      "codemirror_mode": {
        "name": "ipython",
        "version": 3
      },
      "file_extension": ".py",
      "mimetype": "text/x-python",
      "name": "python",
      "nbconvert_exporter": "python",
      "pygments_lexer": "ipython3",
      "version": "3.10.13"
    }
  },
  "nbformat": 4,
  "nbformat_minor": 0
}
